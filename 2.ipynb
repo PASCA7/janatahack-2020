{
 "cells": [
  {
   "cell_type": "code",
   "execution_count": 1,
   "metadata": {},
   "outputs": [],
   "source": [
    "%matplotlib inline\n",
    "import numpy as np\n",
    "import pandas as pd\n",
    "import matplotlib.pyplot as plt\n",
    "import seaborn as sns\n",
    "from sklearn.svm import SVC\n",
    "from sklearn.ensemble import RandomForestClassifier\n",
    "from sklearn.ensemble import GradientBoostingClassifier\n",
    "from xgboost import XGBClassifier"
   ]
  },
  {
   "cell_type": "code",
   "execution_count": 2,
   "metadata": {},
   "outputs": [],
   "source": [
    "df = pd.read_csv('train_edited.csv')"
   ]
  },
  {
   "cell_type": "code",
   "execution_count": 3,
   "metadata": {},
   "outputs": [
    {
     "data": {
      "text/html": [
       "<div>\n",
       "<style scoped>\n",
       "    .dataframe tbody tr th:only-of-type {\n",
       "        vertical-align: middle;\n",
       "    }\n",
       "\n",
       "    .dataframe tbody tr th {\n",
       "        vertical-align: top;\n",
       "    }\n",
       "\n",
       "    .dataframe thead th {\n",
       "        text-align: right;\n",
       "    }\n",
       "</style>\n",
       "<table border=\"1\" class=\"dataframe\">\n",
       "  <thead>\n",
       "    <tr style=\"text-align: right;\">\n",
       "      <th></th>\n",
       "      <th>Unnamed: 0</th>\n",
       "      <th>Hospital_code</th>\n",
       "      <th>Hospital_type_code</th>\n",
       "      <th>City_Code_Hospital</th>\n",
       "      <th>Hospital_region_code</th>\n",
       "      <th>Available Extra Rooms in Hospital</th>\n",
       "      <th>Department</th>\n",
       "      <th>Ward_Type</th>\n",
       "      <th>Ward_Facility_Code</th>\n",
       "      <th>Bed Grade</th>\n",
       "      <th>patientid</th>\n",
       "      <th>City_Code_Patient</th>\n",
       "      <th>Type of Admission</th>\n",
       "      <th>Severity of Illness</th>\n",
       "      <th>Visitors with Patient</th>\n",
       "      <th>Age</th>\n",
       "      <th>Admission_Deposit</th>\n",
       "    </tr>\n",
       "  </thead>\n",
       "  <tbody>\n",
       "    <tr>\n",
       "      <td>0</td>\n",
       "      <td>0</td>\n",
       "      <td>8</td>\n",
       "      <td>3</td>\n",
       "      <td>3</td>\n",
       "      <td>3</td>\n",
       "      <td>3</td>\n",
       "      <td>1</td>\n",
       "      <td>3</td>\n",
       "      <td>6</td>\n",
       "      <td>2.0</td>\n",
       "      <td>31397</td>\n",
       "      <td>7.0</td>\n",
       "      <td>2</td>\n",
       "      <td>3</td>\n",
       "      <td>2</td>\n",
       "      <td>55.5</td>\n",
       "      <td>4911.0</td>\n",
       "    </tr>\n",
       "    <tr>\n",
       "      <td>1</td>\n",
       "      <td>1</td>\n",
       "      <td>2</td>\n",
       "      <td>3</td>\n",
       "      <td>5</td>\n",
       "      <td>3</td>\n",
       "      <td>2</td>\n",
       "      <td>1</td>\n",
       "      <td>4</td>\n",
       "      <td>6</td>\n",
       "      <td>2.0</td>\n",
       "      <td>31397</td>\n",
       "      <td>7.0</td>\n",
       "      <td>3</td>\n",
       "      <td>3</td>\n",
       "      <td>2</td>\n",
       "      <td>55.5</td>\n",
       "      <td>5954.0</td>\n",
       "    </tr>\n",
       "    <tr>\n",
       "      <td>2</td>\n",
       "      <td>2</td>\n",
       "      <td>10</td>\n",
       "      <td>5</td>\n",
       "      <td>1</td>\n",
       "      <td>1</td>\n",
       "      <td>2</td>\n",
       "      <td>2</td>\n",
       "      <td>4</td>\n",
       "      <td>5</td>\n",
       "      <td>2.0</td>\n",
       "      <td>31397</td>\n",
       "      <td>7.0</td>\n",
       "      <td>3</td>\n",
       "      <td>3</td>\n",
       "      <td>2</td>\n",
       "      <td>55.5</td>\n",
       "      <td>4745.0</td>\n",
       "    </tr>\n",
       "    <tr>\n",
       "      <td>3</td>\n",
       "      <td>3</td>\n",
       "      <td>26</td>\n",
       "      <td>2</td>\n",
       "      <td>2</td>\n",
       "      <td>2</td>\n",
       "      <td>2</td>\n",
       "      <td>1</td>\n",
       "      <td>3</td>\n",
       "      <td>4</td>\n",
       "      <td>2.0</td>\n",
       "      <td>31397</td>\n",
       "      <td>7.0</td>\n",
       "      <td>3</td>\n",
       "      <td>3</td>\n",
       "      <td>2</td>\n",
       "      <td>55.5</td>\n",
       "      <td>7272.0</td>\n",
       "    </tr>\n",
       "    <tr>\n",
       "      <td>4</td>\n",
       "      <td>4</td>\n",
       "      <td>26</td>\n",
       "      <td>2</td>\n",
       "      <td>2</td>\n",
       "      <td>2</td>\n",
       "      <td>2</td>\n",
       "      <td>1</td>\n",
       "      <td>4</td>\n",
       "      <td>4</td>\n",
       "      <td>2.0</td>\n",
       "      <td>31397</td>\n",
       "      <td>7.0</td>\n",
       "      <td>3</td>\n",
       "      <td>3</td>\n",
       "      <td>2</td>\n",
       "      <td>55.5</td>\n",
       "      <td>5558.0</td>\n",
       "    </tr>\n",
       "  </tbody>\n",
       "</table>\n",
       "</div>"
      ],
      "text/plain": [
       "   Unnamed: 0  Hospital_code  Hospital_type_code  City_Code_Hospital  \\\n",
       "0           0              8                   3                   3   \n",
       "1           1              2                   3                   5   \n",
       "2           2             10                   5                   1   \n",
       "3           3             26                   2                   2   \n",
       "4           4             26                   2                   2   \n",
       "\n",
       "   Hospital_region_code  Available Extra Rooms in Hospital  Department  \\\n",
       "0                     3                                  3           1   \n",
       "1                     3                                  2           1   \n",
       "2                     1                                  2           2   \n",
       "3                     2                                  2           1   \n",
       "4                     2                                  2           1   \n",
       "\n",
       "   Ward_Type  Ward_Facility_Code  Bed Grade  patientid  City_Code_Patient  \\\n",
       "0          3                   6        2.0      31397                7.0   \n",
       "1          4                   6        2.0      31397                7.0   \n",
       "2          4                   5        2.0      31397                7.0   \n",
       "3          3                   4        2.0      31397                7.0   \n",
       "4          4                   4        2.0      31397                7.0   \n",
       "\n",
       "   Type of Admission  Severity of Illness  Visitors with Patient   Age  \\\n",
       "0                  2                    3                      2  55.5   \n",
       "1                  3                    3                      2  55.5   \n",
       "2                  3                    3                      2  55.5   \n",
       "3                  3                    3                      2  55.5   \n",
       "4                  3                    3                      2  55.5   \n",
       "\n",
       "   Admission_Deposit  \n",
       "0             4911.0  \n",
       "1             5954.0  \n",
       "2             4745.0  \n",
       "3             7272.0  \n",
       "4             5558.0  "
      ]
     },
     "execution_count": 3,
     "metadata": {},
     "output_type": "execute_result"
    }
   ],
   "source": [
    "df.head()"
   ]
  },
  {
   "cell_type": "code",
   "execution_count": 4,
   "metadata": {},
   "outputs": [
    {
     "data": {
      "text/html": [
       "<div>\n",
       "<style scoped>\n",
       "    .dataframe tbody tr th:only-of-type {\n",
       "        vertical-align: middle;\n",
       "    }\n",
       "\n",
       "    .dataframe tbody tr th {\n",
       "        vertical-align: top;\n",
       "    }\n",
       "\n",
       "    .dataframe thead th {\n",
       "        text-align: right;\n",
       "    }\n",
       "</style>\n",
       "<table border=\"1\" class=\"dataframe\">\n",
       "  <thead>\n",
       "    <tr style=\"text-align: right;\">\n",
       "      <th></th>\n",
       "      <th>Unnamed: 0</th>\n",
       "      <th>Hospital_code</th>\n",
       "      <th>Hospital_type_code</th>\n",
       "      <th>City_Code_Hospital</th>\n",
       "      <th>Hospital_region_code</th>\n",
       "      <th>Available Extra Rooms in Hospital</th>\n",
       "      <th>Department</th>\n",
       "      <th>Ward_Type</th>\n",
       "      <th>Ward_Facility_Code</th>\n",
       "      <th>Bed Grade</th>\n",
       "      <th>patientid</th>\n",
       "      <th>City_Code_Patient</th>\n",
       "      <th>Type of Admission</th>\n",
       "      <th>Severity of Illness</th>\n",
       "      <th>Visitors with Patient</th>\n",
       "      <th>Age</th>\n",
       "      <th>Admission_Deposit</th>\n",
       "    </tr>\n",
       "  </thead>\n",
       "  <tbody>\n",
       "    <tr>\n",
       "      <td>count</td>\n",
       "      <td>318438.000000</td>\n",
       "      <td>318438.000000</td>\n",
       "      <td>318438.000000</td>\n",
       "      <td>318438.000000</td>\n",
       "      <td>318438.000000</td>\n",
       "      <td>318438.000000</td>\n",
       "      <td>318438.000000</td>\n",
       "      <td>318438.000000</td>\n",
       "      <td>318438.000000</td>\n",
       "      <td>318438.000000</td>\n",
       "      <td>318438.000000</td>\n",
       "      <td>318438.000000</td>\n",
       "      <td>318438.000000</td>\n",
       "      <td>318438.000000</td>\n",
       "      <td>318438.000000</td>\n",
       "      <td>318438.000000</td>\n",
       "      <td>318438.000000</td>\n",
       "    </tr>\n",
       "    <tr>\n",
       "      <td>mean</td>\n",
       "      <td>159218.500000</td>\n",
       "      <td>18.318841</td>\n",
       "      <td>2.256841</td>\n",
       "      <td>4.771717</td>\n",
       "      <td>1.778098</td>\n",
       "      <td>3.197627</td>\n",
       "      <td>2.765439</td>\n",
       "      <td>2.571028</td>\n",
       "      <td>4.286913</td>\n",
       "      <td>2.625940</td>\n",
       "      <td>65747.579472</td>\n",
       "      <td>7.262506</td>\n",
       "      <td>2.325841</td>\n",
       "      <td>1.908463</td>\n",
       "      <td>3.284099</td>\n",
       "      <td>50.106781</td>\n",
       "      <td>4880.749392</td>\n",
       "    </tr>\n",
       "    <tr>\n",
       "      <td>std</td>\n",
       "      <td>91925.276847</td>\n",
       "      <td>8.633755</td>\n",
       "      <td>1.535712</td>\n",
       "      <td>3.102535</td>\n",
       "      <td>0.752527</td>\n",
       "      <td>1.168171</td>\n",
       "      <td>0.664438</td>\n",
       "      <td>1.195204</td>\n",
       "      <td>1.688050</td>\n",
       "      <td>0.873019</td>\n",
       "      <td>37979.936440</td>\n",
       "      <td>4.712210</td>\n",
       "      <td>0.724078</td>\n",
       "      <td>0.662886</td>\n",
       "      <td>1.764061</td>\n",
       "      <td>58.450562</td>\n",
       "      <td>1086.776254</td>\n",
       "    </tr>\n",
       "    <tr>\n",
       "      <td>min</td>\n",
       "      <td>0.000000</td>\n",
       "      <td>1.000000</td>\n",
       "      <td>1.000000</td>\n",
       "      <td>1.000000</td>\n",
       "      <td>1.000000</td>\n",
       "      <td>0.000000</td>\n",
       "      <td>1.000000</td>\n",
       "      <td>1.000000</td>\n",
       "      <td>1.000000</td>\n",
       "      <td>1.000000</td>\n",
       "      <td>1.000000</td>\n",
       "      <td>1.000000</td>\n",
       "      <td>1.000000</td>\n",
       "      <td>1.000000</td>\n",
       "      <td>0.000000</td>\n",
       "      <td>4.500000</td>\n",
       "      <td>1800.000000</td>\n",
       "    </tr>\n",
       "    <tr>\n",
       "      <td>25%</td>\n",
       "      <td>79609.250000</td>\n",
       "      <td>11.000000</td>\n",
       "      <td>1.000000</td>\n",
       "      <td>2.000000</td>\n",
       "      <td>1.000000</td>\n",
       "      <td>2.000000</td>\n",
       "      <td>3.000000</td>\n",
       "      <td>1.000000</td>\n",
       "      <td>3.000000</td>\n",
       "      <td>2.000000</td>\n",
       "      <td>32847.000000</td>\n",
       "      <td>4.000000</td>\n",
       "      <td>2.000000</td>\n",
       "      <td>1.000000</td>\n",
       "      <td>2.000000</td>\n",
       "      <td>35.500000</td>\n",
       "      <td>4186.000000</td>\n",
       "    </tr>\n",
       "    <tr>\n",
       "      <td>50%</td>\n",
       "      <td>159218.500000</td>\n",
       "      <td>19.000000</td>\n",
       "      <td>2.000000</td>\n",
       "      <td>5.000000</td>\n",
       "      <td>2.000000</td>\n",
       "      <td>3.000000</td>\n",
       "      <td>3.000000</td>\n",
       "      <td>3.000000</td>\n",
       "      <td>5.000000</td>\n",
       "      <td>3.000000</td>\n",
       "      <td>65724.500000</td>\n",
       "      <td>8.000000</td>\n",
       "      <td>2.000000</td>\n",
       "      <td>2.000000</td>\n",
       "      <td>3.000000</td>\n",
       "      <td>45.500000</td>\n",
       "      <td>4741.000000</td>\n",
       "    </tr>\n",
       "    <tr>\n",
       "      <td>75%</td>\n",
       "      <td>238827.750000</td>\n",
       "      <td>26.000000</td>\n",
       "      <td>3.000000</td>\n",
       "      <td>7.000000</td>\n",
       "      <td>2.000000</td>\n",
       "      <td>4.000000</td>\n",
       "      <td>3.000000</td>\n",
       "      <td>3.000000</td>\n",
       "      <td>6.000000</td>\n",
       "      <td>3.000000</td>\n",
       "      <td>98470.000000</td>\n",
       "      <td>8.000000</td>\n",
       "      <td>3.000000</td>\n",
       "      <td>2.000000</td>\n",
       "      <td>4.000000</td>\n",
       "      <td>55.500000</td>\n",
       "      <td>5409.000000</td>\n",
       "    </tr>\n",
       "    <tr>\n",
       "      <td>max</td>\n",
       "      <td>318437.000000</td>\n",
       "      <td>32.000000</td>\n",
       "      <td>7.000000</td>\n",
       "      <td>13.000000</td>\n",
       "      <td>3.000000</td>\n",
       "      <td>24.000000</td>\n",
       "      <td>5.000000</td>\n",
       "      <td>6.000000</td>\n",
       "      <td>6.000000</td>\n",
       "      <td>4.000000</td>\n",
       "      <td>131624.000000</td>\n",
       "      <td>38.000000</td>\n",
       "      <td>3.000000</td>\n",
       "      <td>3.000000</td>\n",
       "      <td>32.000000</td>\n",
       "      <td>914.500000</td>\n",
       "      <td>11008.000000</td>\n",
       "    </tr>\n",
       "  </tbody>\n",
       "</table>\n",
       "</div>"
      ],
      "text/plain": [
       "          Unnamed: 0  Hospital_code  Hospital_type_code  City_Code_Hospital  \\\n",
       "count  318438.000000  318438.000000       318438.000000       318438.000000   \n",
       "mean   159218.500000      18.318841            2.256841            4.771717   \n",
       "std     91925.276847       8.633755            1.535712            3.102535   \n",
       "min         0.000000       1.000000            1.000000            1.000000   \n",
       "25%     79609.250000      11.000000            1.000000            2.000000   \n",
       "50%    159218.500000      19.000000            2.000000            5.000000   \n",
       "75%    238827.750000      26.000000            3.000000            7.000000   \n",
       "max    318437.000000      32.000000            7.000000           13.000000   \n",
       "\n",
       "       Hospital_region_code  Available Extra Rooms in Hospital     Department  \\\n",
       "count         318438.000000                      318438.000000  318438.000000   \n",
       "mean               1.778098                           3.197627       2.765439   \n",
       "std                0.752527                           1.168171       0.664438   \n",
       "min                1.000000                           0.000000       1.000000   \n",
       "25%                1.000000                           2.000000       3.000000   \n",
       "50%                2.000000                           3.000000       3.000000   \n",
       "75%                2.000000                           4.000000       3.000000   \n",
       "max                3.000000                          24.000000       5.000000   \n",
       "\n",
       "           Ward_Type  Ward_Facility_Code      Bed Grade      patientid  \\\n",
       "count  318438.000000       318438.000000  318438.000000  318438.000000   \n",
       "mean        2.571028            4.286913       2.625940   65747.579472   \n",
       "std         1.195204            1.688050       0.873019   37979.936440   \n",
       "min         1.000000            1.000000       1.000000       1.000000   \n",
       "25%         1.000000            3.000000       2.000000   32847.000000   \n",
       "50%         3.000000            5.000000       3.000000   65724.500000   \n",
       "75%         3.000000            6.000000       3.000000   98470.000000   \n",
       "max         6.000000            6.000000       4.000000  131624.000000   \n",
       "\n",
       "       City_Code_Patient  Type of Admission  Severity of Illness  \\\n",
       "count      318438.000000      318438.000000        318438.000000   \n",
       "mean            7.262506           2.325841             1.908463   \n",
       "std             4.712210           0.724078             0.662886   \n",
       "min             1.000000           1.000000             1.000000   \n",
       "25%             4.000000           2.000000             1.000000   \n",
       "50%             8.000000           2.000000             2.000000   \n",
       "75%             8.000000           3.000000             2.000000   \n",
       "max            38.000000           3.000000             3.000000   \n",
       "\n",
       "       Visitors with Patient            Age  Admission_Deposit  \n",
       "count          318438.000000  318438.000000      318438.000000  \n",
       "mean                3.284099      50.106781        4880.749392  \n",
       "std                 1.764061      58.450562        1086.776254  \n",
       "min                 0.000000       4.500000        1800.000000  \n",
       "25%                 2.000000      35.500000        4186.000000  \n",
       "50%                 3.000000      45.500000        4741.000000  \n",
       "75%                 4.000000      55.500000        5409.000000  \n",
       "max                32.000000     914.500000       11008.000000  "
      ]
     },
     "execution_count": 4,
     "metadata": {},
     "output_type": "execute_result"
    }
   ],
   "source": [
    "df.describe()"
   ]
  },
  {
   "cell_type": "code",
   "execution_count": 5,
   "metadata": {},
   "outputs": [
    {
     "data": {
      "text/html": [
       "<div>\n",
       "<style scoped>\n",
       "    .dataframe tbody tr th:only-of-type {\n",
       "        vertical-align: middle;\n",
       "    }\n",
       "\n",
       "    .dataframe tbody tr th {\n",
       "        vertical-align: top;\n",
       "    }\n",
       "\n",
       "    .dataframe thead th {\n",
       "        text-align: right;\n",
       "    }\n",
       "</style>\n",
       "<table border=\"1\" class=\"dataframe\">\n",
       "  <thead>\n",
       "    <tr style=\"text-align: right;\">\n",
       "      <th></th>\n",
       "      <th>Unnamed: 0</th>\n",
       "      <th>Hospital_code</th>\n",
       "      <th>Hospital_type_code</th>\n",
       "      <th>City_Code_Hospital</th>\n",
       "      <th>Hospital_region_code</th>\n",
       "      <th>Available Extra Rooms in Hospital</th>\n",
       "      <th>Department</th>\n",
       "      <th>Ward_Type</th>\n",
       "      <th>Ward_Facility_Code</th>\n",
       "      <th>Bed Grade</th>\n",
       "      <th>patientid</th>\n",
       "      <th>City_Code_Patient</th>\n",
       "      <th>Type of Admission</th>\n",
       "      <th>Severity of Illness</th>\n",
       "      <th>Visitors with Patient</th>\n",
       "      <th>Age</th>\n",
       "      <th>Admission_Deposit</th>\n",
       "    </tr>\n",
       "  </thead>\n",
       "  <tbody>\n",
       "    <tr>\n",
       "      <td>Unnamed: 0</td>\n",
       "      <td>1.000000</td>\n",
       "      <td>-0.043023</td>\n",
       "      <td>0.001877</td>\n",
       "      <td>-0.011352</td>\n",
       "      <td>0.006262</td>\n",
       "      <td>0.042580</td>\n",
       "      <td>0.023430</td>\n",
       "      <td>-0.030094</td>\n",
       "      <td>-0.011546</td>\n",
       "      <td>0.013691</td>\n",
       "      <td>-0.004150</td>\n",
       "      <td>0.065207</td>\n",
       "      <td>-0.138287</td>\n",
       "      <td>-0.151218</td>\n",
       "      <td>0.001309</td>\n",
       "      <td>-0.041455</td>\n",
       "      <td>-0.045972</td>\n",
       "    </tr>\n",
       "    <tr>\n",
       "      <td>Hospital_code</td>\n",
       "      <td>-0.043023</td>\n",
       "      <td>1.000000</td>\n",
       "      <td>0.039449</td>\n",
       "      <td>0.128294</td>\n",
       "      <td>-0.135920</td>\n",
       "      <td>-0.059638</td>\n",
       "      <td>-0.008027</td>\n",
       "      <td>0.195506</td>\n",
       "      <td>-0.132347</td>\n",
       "      <td>-0.013948</td>\n",
       "      <td>0.002291</td>\n",
       "      <td>-0.015477</td>\n",
       "      <td>0.004417</td>\n",
       "      <td>0.030949</td>\n",
       "      <td>-0.028500</td>\n",
       "      <td>0.007002</td>\n",
       "      <td>0.045446</td>\n",
       "    </tr>\n",
       "    <tr>\n",
       "      <td>Hospital_type_code</td>\n",
       "      <td>0.001877</td>\n",
       "      <td>0.039449</td>\n",
       "      <td>1.000000</td>\n",
       "      <td>-0.000839</td>\n",
       "      <td>0.268962</td>\n",
       "      <td>-0.103044</td>\n",
       "      <td>0.031020</td>\n",
       "      <td>0.211400</td>\n",
       "      <td>-0.265768</td>\n",
       "      <td>0.018642</td>\n",
       "      <td>-0.003010</td>\n",
       "      <td>0.055272</td>\n",
       "      <td>0.010012</td>\n",
       "      <td>0.006894</td>\n",
       "      <td>-0.045213</td>\n",
       "      <td>0.001849</td>\n",
       "      <td>0.025341</td>\n",
       "    </tr>\n",
       "    <tr>\n",
       "      <td>City_Code_Hospital</td>\n",
       "      <td>-0.011352</td>\n",
       "      <td>0.128294</td>\n",
       "      <td>-0.000839</td>\n",
       "      <td>1.000000</td>\n",
       "      <td>0.008311</td>\n",
       "      <td>-0.045771</td>\n",
       "      <td>0.015057</td>\n",
       "      <td>0.129707</td>\n",
       "      <td>-0.100474</td>\n",
       "      <td>-0.049248</td>\n",
       "      <td>0.000750</td>\n",
       "      <td>-0.024161</td>\n",
       "      <td>-0.032415</td>\n",
       "      <td>0.026350</td>\n",
       "      <td>0.018184</td>\n",
       "      <td>0.001946</td>\n",
       "      <td>-0.034455</td>\n",
       "    </tr>\n",
       "    <tr>\n",
       "      <td>Hospital_region_code</td>\n",
       "      <td>0.006262</td>\n",
       "      <td>-0.135920</td>\n",
       "      <td>0.268962</td>\n",
       "      <td>0.008311</td>\n",
       "      <td>1.000000</td>\n",
       "      <td>-0.006906</td>\n",
       "      <td>0.017859</td>\n",
       "      <td>0.058559</td>\n",
       "      <td>-0.507350</td>\n",
       "      <td>-0.042680</td>\n",
       "      <td>-0.002083</td>\n",
       "      <td>0.150714</td>\n",
       "      <td>-0.058217</td>\n",
       "      <td>0.029454</td>\n",
       "      <td>-0.019485</td>\n",
       "      <td>-0.003548</td>\n",
       "      <td>0.075092</td>\n",
       "    </tr>\n",
       "    <tr>\n",
       "      <td>Available Extra Rooms in Hospital</td>\n",
       "      <td>0.042580</td>\n",
       "      <td>-0.059638</td>\n",
       "      <td>-0.103044</td>\n",
       "      <td>-0.045771</td>\n",
       "      <td>-0.006906</td>\n",
       "      <td>1.000000</td>\n",
       "      <td>0.072638</td>\n",
       "      <td>-0.396340</td>\n",
       "      <td>0.050453</td>\n",
       "      <td>-0.115804</td>\n",
       "      <td>0.000921</td>\n",
       "      <td>-0.009462</td>\n",
       "      <td>-0.041737</td>\n",
       "      <td>-0.003307</td>\n",
       "      <td>0.096714</td>\n",
       "      <td>-0.052398</td>\n",
       "      <td>-0.143739</td>\n",
       "    </tr>\n",
       "    <tr>\n",
       "      <td>Department</td>\n",
       "      <td>0.023430</td>\n",
       "      <td>-0.008027</td>\n",
       "      <td>0.031020</td>\n",
       "      <td>0.015057</td>\n",
       "      <td>0.017859</td>\n",
       "      <td>0.072638</td>\n",
       "      <td>1.000000</td>\n",
       "      <td>-0.021908</td>\n",
       "      <td>-0.009210</td>\n",
       "      <td>-0.054986</td>\n",
       "      <td>-0.004353</td>\n",
       "      <td>-0.006636</td>\n",
       "      <td>-0.030816</td>\n",
       "      <td>-0.018254</td>\n",
       "      <td>0.005892</td>\n",
       "      <td>-0.061612</td>\n",
       "      <td>-0.055692</td>\n",
       "    </tr>\n",
       "    <tr>\n",
       "      <td>Ward_Type</td>\n",
       "      <td>-0.030094</td>\n",
       "      <td>0.195506</td>\n",
       "      <td>0.211400</td>\n",
       "      <td>0.129707</td>\n",
       "      <td>0.058559</td>\n",
       "      <td>-0.396340</td>\n",
       "      <td>-0.021908</td>\n",
       "      <td>1.000000</td>\n",
       "      <td>-0.129028</td>\n",
       "      <td>-0.006296</td>\n",
       "      <td>0.001257</td>\n",
       "      <td>0.005576</td>\n",
       "      <td>-0.001879</td>\n",
       "      <td>-0.007936</td>\n",
       "      <td>-0.090885</td>\n",
       "      <td>0.011828</td>\n",
       "      <td>0.056740</td>\n",
       "    </tr>\n",
       "    <tr>\n",
       "      <td>Ward_Facility_Code</td>\n",
       "      <td>-0.011546</td>\n",
       "      <td>-0.132347</td>\n",
       "      <td>-0.265768</td>\n",
       "      <td>-0.100474</td>\n",
       "      <td>-0.507350</td>\n",
       "      <td>0.050453</td>\n",
       "      <td>-0.009210</td>\n",
       "      <td>-0.129028</td>\n",
       "      <td>1.000000</td>\n",
       "      <td>0.075984</td>\n",
       "      <td>0.001923</td>\n",
       "      <td>-0.139691</td>\n",
       "      <td>0.066908</td>\n",
       "      <td>-0.036152</td>\n",
       "      <td>0.022088</td>\n",
       "      <td>0.000276</td>\n",
       "      <td>-0.023057</td>\n",
       "    </tr>\n",
       "    <tr>\n",
       "      <td>Bed Grade</td>\n",
       "      <td>0.013691</td>\n",
       "      <td>-0.013948</td>\n",
       "      <td>0.018642</td>\n",
       "      <td>-0.049248</td>\n",
       "      <td>-0.042680</td>\n",
       "      <td>-0.115804</td>\n",
       "      <td>-0.054986</td>\n",
       "      <td>-0.006296</td>\n",
       "      <td>0.075984</td>\n",
       "      <td>1.000000</td>\n",
       "      <td>0.001638</td>\n",
       "      <td>-0.007581</td>\n",
       "      <td>0.049850</td>\n",
       "      <td>-0.284407</td>\n",
       "      <td>0.088920</td>\n",
       "      <td>-0.001370</td>\n",
       "      <td>0.073779</td>\n",
       "    </tr>\n",
       "    <tr>\n",
       "      <td>patientid</td>\n",
       "      <td>-0.004150</td>\n",
       "      <td>0.002291</td>\n",
       "      <td>-0.003010</td>\n",
       "      <td>0.000750</td>\n",
       "      <td>-0.002083</td>\n",
       "      <td>0.000921</td>\n",
       "      <td>-0.004353</td>\n",
       "      <td>0.001257</td>\n",
       "      <td>0.001923</td>\n",
       "      <td>0.001638</td>\n",
       "      <td>1.000000</td>\n",
       "      <td>0.002009</td>\n",
       "      <td>-0.004391</td>\n",
       "      <td>-0.006397</td>\n",
       "      <td>0.006889</td>\n",
       "      <td>-0.003604</td>\n",
       "      <td>-0.000877</td>\n",
       "    </tr>\n",
       "    <tr>\n",
       "      <td>City_Code_Patient</td>\n",
       "      <td>0.065207</td>\n",
       "      <td>-0.015477</td>\n",
       "      <td>0.055272</td>\n",
       "      <td>-0.024161</td>\n",
       "      <td>0.150714</td>\n",
       "      <td>-0.009462</td>\n",
       "      <td>-0.006636</td>\n",
       "      <td>0.005576</td>\n",
       "      <td>-0.139691</td>\n",
       "      <td>-0.007581</td>\n",
       "      <td>0.002009</td>\n",
       "      <td>1.000000</td>\n",
       "      <td>-0.034548</td>\n",
       "      <td>-0.017362</td>\n",
       "      <td>-0.011677</td>\n",
       "      <td>-0.007431</td>\n",
       "      <td>0.025485</td>\n",
       "    </tr>\n",
       "    <tr>\n",
       "      <td>Type of Admission</td>\n",
       "      <td>-0.138287</td>\n",
       "      <td>0.004417</td>\n",
       "      <td>0.010012</td>\n",
       "      <td>-0.032415</td>\n",
       "      <td>-0.058217</td>\n",
       "      <td>-0.041737</td>\n",
       "      <td>-0.030816</td>\n",
       "      <td>-0.001879</td>\n",
       "      <td>0.066908</td>\n",
       "      <td>0.049850</td>\n",
       "      <td>-0.004391</td>\n",
       "      <td>-0.034548</td>\n",
       "      <td>1.000000</td>\n",
       "      <td>0.047165</td>\n",
       "      <td>0.021020</td>\n",
       "      <td>0.036037</td>\n",
       "      <td>0.075895</td>\n",
       "    </tr>\n",
       "    <tr>\n",
       "      <td>Severity of Illness</td>\n",
       "      <td>-0.151218</td>\n",
       "      <td>0.030949</td>\n",
       "      <td>0.006894</td>\n",
       "      <td>0.026350</td>\n",
       "      <td>0.029454</td>\n",
       "      <td>-0.003307</td>\n",
       "      <td>-0.018254</td>\n",
       "      <td>-0.007936</td>\n",
       "      <td>-0.036152</td>\n",
       "      <td>-0.284407</td>\n",
       "      <td>-0.006397</td>\n",
       "      <td>-0.017362</td>\n",
       "      <td>0.047165</td>\n",
       "      <td>1.000000</td>\n",
       "      <td>0.047292</td>\n",
       "      <td>0.049829</td>\n",
       "      <td>-0.070892</td>\n",
       "    </tr>\n",
       "    <tr>\n",
       "      <td>Visitors with Patient</td>\n",
       "      <td>0.001309</td>\n",
       "      <td>-0.028500</td>\n",
       "      <td>-0.045213</td>\n",
       "      <td>0.018184</td>\n",
       "      <td>-0.019485</td>\n",
       "      <td>0.096714</td>\n",
       "      <td>0.005892</td>\n",
       "      <td>-0.090885</td>\n",
       "      <td>0.022088</td>\n",
       "      <td>0.088920</td>\n",
       "      <td>0.006889</td>\n",
       "      <td>-0.011677</td>\n",
       "      <td>0.021020</td>\n",
       "      <td>0.047292</td>\n",
       "      <td>1.000000</td>\n",
       "      <td>0.030778</td>\n",
       "      <td>-0.150358</td>\n",
       "    </tr>\n",
       "    <tr>\n",
       "      <td>Age</td>\n",
       "      <td>-0.041455</td>\n",
       "      <td>0.007002</td>\n",
       "      <td>0.001849</td>\n",
       "      <td>0.001946</td>\n",
       "      <td>-0.003548</td>\n",
       "      <td>-0.052398</td>\n",
       "      <td>-0.061612</td>\n",
       "      <td>0.011828</td>\n",
       "      <td>0.000276</td>\n",
       "      <td>-0.001370</td>\n",
       "      <td>-0.003604</td>\n",
       "      <td>-0.007431</td>\n",
       "      <td>0.036037</td>\n",
       "      <td>0.049829</td>\n",
       "      <td>0.030778</td>\n",
       "      <td>1.000000</td>\n",
       "      <td>0.009702</td>\n",
       "    </tr>\n",
       "    <tr>\n",
       "      <td>Admission_Deposit</td>\n",
       "      <td>-0.045972</td>\n",
       "      <td>0.045446</td>\n",
       "      <td>0.025341</td>\n",
       "      <td>-0.034455</td>\n",
       "      <td>0.075092</td>\n",
       "      <td>-0.143739</td>\n",
       "      <td>-0.055692</td>\n",
       "      <td>0.056740</td>\n",
       "      <td>-0.023057</td>\n",
       "      <td>0.073779</td>\n",
       "      <td>-0.000877</td>\n",
       "      <td>0.025485</td>\n",
       "      <td>0.075895</td>\n",
       "      <td>-0.070892</td>\n",
       "      <td>-0.150358</td>\n",
       "      <td>0.009702</td>\n",
       "      <td>1.000000</td>\n",
       "    </tr>\n",
       "  </tbody>\n",
       "</table>\n",
       "</div>"
      ],
      "text/plain": [
       "                                   Unnamed: 0  Hospital_code  \\\n",
       "Unnamed: 0                           1.000000      -0.043023   \n",
       "Hospital_code                       -0.043023       1.000000   \n",
       "Hospital_type_code                   0.001877       0.039449   \n",
       "City_Code_Hospital                  -0.011352       0.128294   \n",
       "Hospital_region_code                 0.006262      -0.135920   \n",
       "Available Extra Rooms in Hospital    0.042580      -0.059638   \n",
       "Department                           0.023430      -0.008027   \n",
       "Ward_Type                           -0.030094       0.195506   \n",
       "Ward_Facility_Code                  -0.011546      -0.132347   \n",
       "Bed Grade                            0.013691      -0.013948   \n",
       "patientid                           -0.004150       0.002291   \n",
       "City_Code_Patient                    0.065207      -0.015477   \n",
       "Type of Admission                   -0.138287       0.004417   \n",
       "Severity of Illness                 -0.151218       0.030949   \n",
       "Visitors with Patient                0.001309      -0.028500   \n",
       "Age                                 -0.041455       0.007002   \n",
       "Admission_Deposit                   -0.045972       0.045446   \n",
       "\n",
       "                                   Hospital_type_code  City_Code_Hospital  \\\n",
       "Unnamed: 0                                   0.001877           -0.011352   \n",
       "Hospital_code                                0.039449            0.128294   \n",
       "Hospital_type_code                           1.000000           -0.000839   \n",
       "City_Code_Hospital                          -0.000839            1.000000   \n",
       "Hospital_region_code                         0.268962            0.008311   \n",
       "Available Extra Rooms in Hospital           -0.103044           -0.045771   \n",
       "Department                                   0.031020            0.015057   \n",
       "Ward_Type                                    0.211400            0.129707   \n",
       "Ward_Facility_Code                          -0.265768           -0.100474   \n",
       "Bed Grade                                    0.018642           -0.049248   \n",
       "patientid                                   -0.003010            0.000750   \n",
       "City_Code_Patient                            0.055272           -0.024161   \n",
       "Type of Admission                            0.010012           -0.032415   \n",
       "Severity of Illness                          0.006894            0.026350   \n",
       "Visitors with Patient                       -0.045213            0.018184   \n",
       "Age                                          0.001849            0.001946   \n",
       "Admission_Deposit                            0.025341           -0.034455   \n",
       "\n",
       "                                   Hospital_region_code  \\\n",
       "Unnamed: 0                                     0.006262   \n",
       "Hospital_code                                 -0.135920   \n",
       "Hospital_type_code                             0.268962   \n",
       "City_Code_Hospital                             0.008311   \n",
       "Hospital_region_code                           1.000000   \n",
       "Available Extra Rooms in Hospital             -0.006906   \n",
       "Department                                     0.017859   \n",
       "Ward_Type                                      0.058559   \n",
       "Ward_Facility_Code                            -0.507350   \n",
       "Bed Grade                                     -0.042680   \n",
       "patientid                                     -0.002083   \n",
       "City_Code_Patient                              0.150714   \n",
       "Type of Admission                             -0.058217   \n",
       "Severity of Illness                            0.029454   \n",
       "Visitors with Patient                         -0.019485   \n",
       "Age                                           -0.003548   \n",
       "Admission_Deposit                              0.075092   \n",
       "\n",
       "                                   Available Extra Rooms in Hospital  \\\n",
       "Unnamed: 0                                                  0.042580   \n",
       "Hospital_code                                              -0.059638   \n",
       "Hospital_type_code                                         -0.103044   \n",
       "City_Code_Hospital                                         -0.045771   \n",
       "Hospital_region_code                                       -0.006906   \n",
       "Available Extra Rooms in Hospital                           1.000000   \n",
       "Department                                                  0.072638   \n",
       "Ward_Type                                                  -0.396340   \n",
       "Ward_Facility_Code                                          0.050453   \n",
       "Bed Grade                                                  -0.115804   \n",
       "patientid                                                   0.000921   \n",
       "City_Code_Patient                                          -0.009462   \n",
       "Type of Admission                                          -0.041737   \n",
       "Severity of Illness                                        -0.003307   \n",
       "Visitors with Patient                                       0.096714   \n",
       "Age                                                        -0.052398   \n",
       "Admission_Deposit                                          -0.143739   \n",
       "\n",
       "                                   Department  Ward_Type  Ward_Facility_Code  \\\n",
       "Unnamed: 0                           0.023430  -0.030094           -0.011546   \n",
       "Hospital_code                       -0.008027   0.195506           -0.132347   \n",
       "Hospital_type_code                   0.031020   0.211400           -0.265768   \n",
       "City_Code_Hospital                   0.015057   0.129707           -0.100474   \n",
       "Hospital_region_code                 0.017859   0.058559           -0.507350   \n",
       "Available Extra Rooms in Hospital    0.072638  -0.396340            0.050453   \n",
       "Department                           1.000000  -0.021908           -0.009210   \n",
       "Ward_Type                           -0.021908   1.000000           -0.129028   \n",
       "Ward_Facility_Code                  -0.009210  -0.129028            1.000000   \n",
       "Bed Grade                           -0.054986  -0.006296            0.075984   \n",
       "patientid                           -0.004353   0.001257            0.001923   \n",
       "City_Code_Patient                   -0.006636   0.005576           -0.139691   \n",
       "Type of Admission                   -0.030816  -0.001879            0.066908   \n",
       "Severity of Illness                 -0.018254  -0.007936           -0.036152   \n",
       "Visitors with Patient                0.005892  -0.090885            0.022088   \n",
       "Age                                 -0.061612   0.011828            0.000276   \n",
       "Admission_Deposit                   -0.055692   0.056740           -0.023057   \n",
       "\n",
       "                                   Bed Grade  patientid  City_Code_Patient  \\\n",
       "Unnamed: 0                          0.013691  -0.004150           0.065207   \n",
       "Hospital_code                      -0.013948   0.002291          -0.015477   \n",
       "Hospital_type_code                  0.018642  -0.003010           0.055272   \n",
       "City_Code_Hospital                 -0.049248   0.000750          -0.024161   \n",
       "Hospital_region_code               -0.042680  -0.002083           0.150714   \n",
       "Available Extra Rooms in Hospital  -0.115804   0.000921          -0.009462   \n",
       "Department                         -0.054986  -0.004353          -0.006636   \n",
       "Ward_Type                          -0.006296   0.001257           0.005576   \n",
       "Ward_Facility_Code                  0.075984   0.001923          -0.139691   \n",
       "Bed Grade                           1.000000   0.001638          -0.007581   \n",
       "patientid                           0.001638   1.000000           0.002009   \n",
       "City_Code_Patient                  -0.007581   0.002009           1.000000   \n",
       "Type of Admission                   0.049850  -0.004391          -0.034548   \n",
       "Severity of Illness                -0.284407  -0.006397          -0.017362   \n",
       "Visitors with Patient               0.088920   0.006889          -0.011677   \n",
       "Age                                -0.001370  -0.003604          -0.007431   \n",
       "Admission_Deposit                   0.073779  -0.000877           0.025485   \n",
       "\n",
       "                                   Type of Admission  Severity of Illness  \\\n",
       "Unnamed: 0                                 -0.138287            -0.151218   \n",
       "Hospital_code                               0.004417             0.030949   \n",
       "Hospital_type_code                          0.010012             0.006894   \n",
       "City_Code_Hospital                         -0.032415             0.026350   \n",
       "Hospital_region_code                       -0.058217             0.029454   \n",
       "Available Extra Rooms in Hospital          -0.041737            -0.003307   \n",
       "Department                                 -0.030816            -0.018254   \n",
       "Ward_Type                                  -0.001879            -0.007936   \n",
       "Ward_Facility_Code                          0.066908            -0.036152   \n",
       "Bed Grade                                   0.049850            -0.284407   \n",
       "patientid                                  -0.004391            -0.006397   \n",
       "City_Code_Patient                          -0.034548            -0.017362   \n",
       "Type of Admission                           1.000000             0.047165   \n",
       "Severity of Illness                         0.047165             1.000000   \n",
       "Visitors with Patient                       0.021020             0.047292   \n",
       "Age                                         0.036037             0.049829   \n",
       "Admission_Deposit                           0.075895            -0.070892   \n",
       "\n",
       "                                   Visitors with Patient       Age  \\\n",
       "Unnamed: 0                                      0.001309 -0.041455   \n",
       "Hospital_code                                  -0.028500  0.007002   \n",
       "Hospital_type_code                             -0.045213  0.001849   \n",
       "City_Code_Hospital                              0.018184  0.001946   \n",
       "Hospital_region_code                           -0.019485 -0.003548   \n",
       "Available Extra Rooms in Hospital               0.096714 -0.052398   \n",
       "Department                                      0.005892 -0.061612   \n",
       "Ward_Type                                      -0.090885  0.011828   \n",
       "Ward_Facility_Code                              0.022088  0.000276   \n",
       "Bed Grade                                       0.088920 -0.001370   \n",
       "patientid                                       0.006889 -0.003604   \n",
       "City_Code_Patient                              -0.011677 -0.007431   \n",
       "Type of Admission                               0.021020  0.036037   \n",
       "Severity of Illness                             0.047292  0.049829   \n",
       "Visitors with Patient                           1.000000  0.030778   \n",
       "Age                                             0.030778  1.000000   \n",
       "Admission_Deposit                              -0.150358  0.009702   \n",
       "\n",
       "                                   Admission_Deposit  \n",
       "Unnamed: 0                                 -0.045972  \n",
       "Hospital_code                               0.045446  \n",
       "Hospital_type_code                          0.025341  \n",
       "City_Code_Hospital                         -0.034455  \n",
       "Hospital_region_code                        0.075092  \n",
       "Available Extra Rooms in Hospital          -0.143739  \n",
       "Department                                 -0.055692  \n",
       "Ward_Type                                   0.056740  \n",
       "Ward_Facility_Code                         -0.023057  \n",
       "Bed Grade                                   0.073779  \n",
       "patientid                                  -0.000877  \n",
       "City_Code_Patient                           0.025485  \n",
       "Type of Admission                           0.075895  \n",
       "Severity of Illness                        -0.070892  \n",
       "Visitors with Patient                      -0.150358  \n",
       "Age                                         0.009702  \n",
       "Admission_Deposit                           1.000000  "
      ]
     },
     "execution_count": 5,
     "metadata": {},
     "output_type": "execute_result"
    }
   ],
   "source": [
    "df.corr()"
   ]
  },
  {
   "cell_type": "code",
   "execution_count": 6,
   "metadata": {},
   "outputs": [
    {
     "data": {
      "text/plain": [
       "Text(0, 0.5, '')"
      ]
     },
     "execution_count": 6,
     "metadata": {},
     "output_type": "execute_result"
    },
    {
     "data": {
      "image/png": "[encoded data removed]",
      "text/plain": [
       "<Figure size 432x288 with 1 Axes>"
      ]
     },
     "metadata": {
      "needs_background": "light"
     },
     "output_type": "display_data"
    }
   ],
   "source": [
    "x = df['Hospital_code']\n",
    "y = df['Available Extra Rooms in Hospital']\n",
    "plt.scatter(x,y)\n",
    "'''plt.plot(x,y)'''\n",
    "plt.xlabel('')\n",
    "plt.ylabel('')"
   ]
  },
  {
   "cell_type": "code",
   "execution_count": 7,
   "metadata": {},
   "outputs": [
    {
     "data": {
      "text/plain": [
       "-0.05963837121268352"
      ]
     },
     "execution_count": 7,
     "metadata": {},
     "output_type": "execute_result"
    }
   ],
   "source": [
    "corrilation = x.corr(y)\n",
    "corrilation"
   ]
  },
  {
   "cell_type": "code",
   "execution_count": 8,
   "metadata": {},
   "outputs": [
    {
     "data": {
      "text/plain": [
       "(318438,)"
      ]
     },
     "execution_count": 8,
     "metadata": {},
     "output_type": "execute_result"
    },
    {
     "data": {
      "image/png": "[encoded data removed]",
      "text/plain": [
       "<Figure size 432x288 with 1 Axes>"
      ]
     },
     "metadata": {
      "needs_background": "light"
     },
     "output_type": "display_data"
    }
   ],
   "source": [
    "#sns.boxplot(df['Hospital_code'])\n",
    "sns.boxplot(df['Available Extra Rooms in Hospital'])\n",
    "df['Available Extra Rooms in Hospital'].shape"
   ]
  },
  {
   "cell_type": "code",
   "execution_count": 9,
   "metadata": {},
   "outputs": [
    {
     "data": {
      "text/plain": [
       "<matplotlib.axes._subplots.AxesSubplot at 0x241d553f708>"
      ]
     },
     "execution_count": 9,
     "metadata": {},
     "output_type": "execute_result"
    },
    {
     "data": {
      "image/png": "[encoded data removed]",
      "text/plain": [
       "<Figure size 432x288 with 1 Axes>"
      ]
     },
     "metadata": {
      "needs_background": "light"
     },
     "output_type": "display_data"
    }
   ],
   "source": [
    "sns.barplot(df['Hospital_code'],df['Available Extra Rooms in Hospital'])"
   ]
  },
  {
   "cell_type": "code",
   "execution_count": 10,
   "metadata": {},
   "outputs": [],
   "source": [
    "df['Available Extra Rooms in Hospital'] = df['Available Extra Rooms in Hospital'].round(0).astype(int)"
   ]
  },
  {
   "cell_type": "code",
   "execution_count": 11,
   "metadata": {},
   "outputs": [
    {
     "data": {
      "text/plain": [
       "<matplotlib.axes._subplots.AxesSubplot at 0x241d5b10e48>"
      ]
     },
     "execution_count": 11,
     "metadata": {},
     "output_type": "execute_result"
    },
    {
     "data": {
      "image/png": "[encoded data removed]",
      "text/plain": [
       "<Figure size 432x288 with 1 Axes>"
      ]
     },
     "metadata": {
      "needs_background": "light"
     },
     "output_type": "display_data"
    }
   ],
   "source": [
    "sns.barplot(df['Available Extra Rooms in Hospital'],df['Hospital_code'])"
   ]
  },
  {
   "cell_type": "code",
   "execution_count": 12,
   "metadata": {},
   "outputs": [
    {
     "data": {
      "text/plain": [
       "dtype('int32')"
      ]
     },
     "execution_count": 12,
     "metadata": {},
     "output_type": "execute_result"
    }
   ],
   "source": [
    "df['Available Extra Rooms in Hospital'].dtypes"
   ]
  },
  {
   "cell_type": "code",
   "execution_count": 13,
   "metadata": {},
   "outputs": [
    {
     "data": {
      "text/plain": [
       "<matplotlib.axes._subplots.AxesSubplot at 0x241d6bc1788>"
      ]
     },
     "execution_count": 13,
     "metadata": {},
     "output_type": "execute_result"
    },
    {
     "data": {
      "image/png": "[encoded data removed]",
      "text/plain": [
       "<Figure size 432x288 with 1 Axes>"
      ]
     },
     "metadata": {
      "needs_background": "light"
     },
     "output_type": "display_data"
    }
   ],
   "source": [
    "sns.countplot(df['Available Extra Rooms in Hospital'])"
   ]
  },
  {
   "cell_type": "code",
   "execution_count": 14,
   "metadata": {},
   "outputs": [
    {
     "name": "stdout",
     "output_type": "stream",
     "text": [
      "2.0\n",
      "7.0\n"
     ]
    }
   ],
   "source": [
    "print(df['Available Extra Rooms in Hospital'].quantile(0.25)) \n",
    "print(df['Available Extra Rooms in Hospital'].quantile(.99)) \n",
    "df['Available Extra Rooms in Hospital'] = np.where(df['Available Extra Rooms in Hospital'] >= 10, 4, df['Available Extra Rooms in Hospital'])\n",
    "#df['Available Extra Rooms in Hospital'] = np.where(df['Available Extra Rooms in Hospital'] >= 8, 4, df['Available Extra Rooms in Hospital'])\n",
    "\n",
    "#df['Available Extra Rooms in Hospital'].describe()"
   ]
  },
  {
   "cell_type": "code",
   "execution_count": 15,
   "metadata": {},
   "outputs": [
    {
     "data": {
      "text/plain": [
       "<matplotlib.axes._subplots.AxesSubplot at 0x241d5ac86c8>"
      ]
     },
     "execution_count": 15,
     "metadata": {},
     "output_type": "execute_result"
    },
    {
     "data": {
      "image/png": "[encoded data removed]",
      "text/plain": [
       "<Figure size 432x288 with 1 Axes>"
      ]
     },
     "metadata": {
      "needs_background": "light"
     },
     "output_type": "display_data"
    }
   ],
   "source": [
    "sns.barplot(df['Available Extra Rooms in Hospital'],df['Hospital_code'])"
   ]
  },
  {
   "cell_type": "code",
   "execution_count": 16,
   "metadata": {},
   "outputs": [
    {
     "data": {
      "text/plain": [
       "<matplotlib.axes._subplots.AxesSubplot at 0x241d705a1c8>"
      ]
     },
     "execution_count": 16,
     "metadata": {},
     "output_type": "execute_result"
    },
    {
     "data": {
      "image/png": "[encoded data removed]",
      "text/plain": [
       "<Figure size 432x288 with 1 Axes>"
      ]
     },
     "metadata": {
      "needs_background": "light"
     },
     "output_type": "display_data"
    }
   ],
   "source": [
    "sns.boxplot(df['Available Extra Rooms in Hospital'])"
   ]
  },
  {
   "cell_type": "code",
   "execution_count": 17,
   "metadata": {},
   "outputs": [
    {
     "data": {
      "text/plain": [
       "(318438,)"
      ]
     },
     "execution_count": 17,
     "metadata": {},
     "output_type": "execute_result"
    }
   ],
   "source": [
    "df['Available Extra Rooms in Hospital'].shape"
   ]
  },
  {
   "cell_type": "code",
   "execution_count": 18,
   "metadata": {},
   "outputs": [
    {
     "data": {
      "text/plain": [
       "9"
      ]
     },
     "execution_count": 18,
     "metadata": {},
     "output_type": "execute_result"
    }
   ],
   "source": [
    "df['Available Extra Rooms in Hospital'].max()"
   ]
  },
  {
   "cell_type": "code",
   "execution_count": 19,
   "metadata": {},
   "outputs": [
    {
     "data": {
      "text/plain": [
       "3.1952530790923195"
      ]
     },
     "execution_count": 19,
     "metadata": {},
     "output_type": "execute_result"
    }
   ],
   "source": [
    "df['Available Extra Rooms in Hospital'].mean()"
   ]
  },
  {
   "cell_type": "code",
   "execution_count": 20,
   "metadata": {},
   "outputs": [
    {
     "data": {
      "text/plain": [
       "3.0"
      ]
     },
     "execution_count": 20,
     "metadata": {},
     "output_type": "execute_result"
    }
   ],
   "source": [
    "df['Available Extra Rooms in Hospital'].median()"
   ]
  },
  {
   "cell_type": "code",
   "execution_count": 21,
   "metadata": {},
   "outputs": [
    {
     "data": {
      "text/plain": [
       "1.1582730407088369"
      ]
     },
     "execution_count": 21,
     "metadata": {},
     "output_type": "execute_result"
    }
   ],
   "source": [
    "df['Available Extra Rooms in Hospital'].std()"
   ]
  },
  {
   "cell_type": "code",
   "execution_count": 22,
   "metadata": {},
   "outputs": [
    {
     "data": {
      "text/plain": [
       "5.791365203544184"
      ]
     },
     "execution_count": 22,
     "metadata": {},
     "output_type": "execute_result"
    }
   ],
   "source": [
    "5*df['Available Extra Rooms in Hospital'].std()"
   ]
  },
  {
   "cell_type": "code",
   "execution_count": 23,
   "metadata": {},
   "outputs": [
    {
     "data": {
      "text/plain": [
       "'imputer = KNNImputer(n_neighbors= 1)\\nimpute_with_1 = imputer.fit_transform(X)\\n'"
      ]
     },
     "execution_count": 23,
     "metadata": {},
     "output_type": "execute_result"
    }
   ],
   "source": [
    "'''imputer = KNNImputer(n_neighbors= 1)\n",
    "impute_with_1 = imputer.fit_transform(X)\n",
    "'''"
   ]
  },
  {
   "cell_type": "code",
   "execution_count": 24,
   "metadata": {},
   "outputs": [
    {
     "data": {
      "text/plain": [
       "<matplotlib.axes._subplots.AxesSubplot at 0x241d70d19c8>"
      ]
     },
     "execution_count": 24,
     "metadata": {},
     "output_type": "execute_result"
    },
    {
     "data": {
      "image/png": "[encoded data removed]",
      "text/plain": [
       "<Figure size 432x288 with 1 Axes>"
      ]
     },
     "metadata": {
      "needs_background": "light"
     },
     "output_type": "display_data"
    }
   ],
   "source": [
    "sns.distplot(df['Available Extra Rooms in Hospital'])"
   ]
  },
  {
   "cell_type": "code",
   "execution_count": 25,
   "metadata": {},
   "outputs": [
    {
     "data": {
      "text/plain": [
       "<matplotlib.axes._subplots.AxesSubplot at 0x241d71e2548>"
      ]
     },
     "execution_count": 25,
     "metadata": {},
     "output_type": "execute_result"
    },
    {
     "data": {
      "image/png": "[encoded data removed]",
      "text/plain": [
       "<Figure size 432x288 with 1 Axes>"
      ]
     },
     "metadata": {
      "needs_background": "light"
     },
     "output_type": "display_data"
    }
   ],
   "source": [
    "sns.countplot(df['Available Extra Rooms in Hospital'])"
   ]
  },
  {
   "cell_type": "code",
   "execution_count": 26,
   "metadata": {},
   "outputs": [],
   "source": [
    "test = pd.read_csv('testcsv1.csv')\n",
    "test1 = test"
   ]
  },
  {
   "cell_type": "code",
   "execution_count": 27,
   "metadata": {},
   "outputs": [
    {
     "data": {
      "text/plain": [
       "7.243995552261181"
      ]
     },
     "execution_count": 27,
     "metadata": {},
     "output_type": "execute_result"
    }
   ],
   "source": [
    "test['City_Code_Patient'].mean()"
   ]
  },
  {
   "cell_type": "code",
   "execution_count": 28,
   "metadata": {},
   "outputs": [
    {
     "data": {
      "text/plain": [
       "137057"
      ]
     },
     "execution_count": 28,
     "metadata": {},
     "output_type": "execute_result"
    }
   ],
   "source": [
    "test['Available Extra Rooms in Hospital'].count()"
   ]
  },
  {
   "cell_type": "code",
   "execution_count": 29,
   "metadata": {},
   "outputs": [
    {
     "data": {
      "text/plain": [
       "<matplotlib.axes._subplots.AxesSubplot at 0x241d71ecb88>"
      ]
     },
     "execution_count": 29,
     "metadata": {},
     "output_type": "execute_result"
    },
    {
     "data": {
      "image/png": "[encoded data removed]",
      "text/plain": [
       "<Figure size 432x288 with 1 Axes>"
      ]
     },
     "metadata": {
      "needs_background": "light"
     },
     "output_type": "display_data"
    }
   ],
   "source": [
    "sns.countplot(test['Available Extra Rooms in Hospital'])"
   ]
  },
  {
   "cell_type": "code",
   "execution_count": 30,
   "metadata": {},
   "outputs": [
    {
     "data": {
      "text/plain": [
       "<matplotlib.axes._subplots.AxesSubplot at 0x241d77be5c8>"
      ]
     },
     "execution_count": 30,
     "metadata": {},
     "output_type": "execute_result"
    },
    {
     "data": {
      "image/png": "[encoded data removed]",
      "text/plain": [
       "<Figure size 432x288 with 1 Axes>"
      ]
     },
     "metadata": {
      "needs_background": "light"
     },
     "output_type": "display_data"
    }
   ],
   "source": [
    "sns.boxplot(test['Available Extra Rooms in Hospital'])"
   ]
  },
  {
   "cell_type": "code",
   "execution_count": 31,
   "metadata": {},
   "outputs": [
    {
     "data": {
      "text/plain": [
       "137056"
      ]
     },
     "execution_count": 31,
     "metadata": {},
     "output_type": "execute_result"
    }
   ],
   "source": [
    "arr = []\n",
    "df1 = test['Available Extra Rooms in Hospital'] < 21\n",
    "for i in df1:\n",
    "    if (i == True):\n",
    "        arr.append(i)\n",
    "        \n",
    "len(arr)\n",
    "        \n",
    "    \n",
    "        "
   ]
  },
  {
   "cell_type": "code",
   "execution_count": 32,
   "metadata": {},
   "outputs": [
    {
     "data": {
      "text/plain": [
       "0         True\n",
       "1         True\n",
       "2         True\n",
       "3         True\n",
       "4         True\n",
       "          ... \n",
       "137052    True\n",
       "137053    True\n",
       "137054    True\n",
       "137055    True\n",
       "137056    True\n",
       "Name: Available Extra Rooms in Hospital, Length: 137057, dtype: bool"
      ]
     },
     "execution_count": 32,
     "metadata": {},
     "output_type": "execute_result"
    }
   ],
   "source": [
    "df1"
   ]
  },
  {
   "cell_type": "code",
   "execution_count": 33,
   "metadata": {},
   "outputs": [
    {
     "data": {
      "text/plain": [
       "3.1926862546239887"
      ]
     },
     "execution_count": 33,
     "metadata": {},
     "output_type": "execute_result"
    }
   ],
   "source": [
    "test['Available Extra Rooms in Hospital'].mean()"
   ]
  },
  {
   "cell_type": "code",
   "execution_count": 34,
   "metadata": {},
   "outputs": [],
   "source": [
    "test['Available Extra Rooms in Hospital'] = np.where(test['Available Extra Rooms in Hospital'] >= 10, 4, test['Available Extra Rooms in Hospital'])\n"
   ]
  },
  {
   "cell_type": "code",
   "execution_count": 35,
   "metadata": {},
   "outputs": [
    {
     "data": {
      "text/plain": [
       "<matplotlib.axes._subplots.AxesSubplot at 0x241d7952588>"
      ]
     },
     "execution_count": 35,
     "metadata": {},
     "output_type": "execute_result"
    },
    {
     "data": {
      "image/png": "[encoded data removed]",
      "text/plain": [
       "<Figure size 432x288 with 1 Axes>"
      ]
     },
     "metadata": {
      "needs_background": "light"
     },
     "output_type": "display_data"
    }
   ],
   "source": [
    "sns.boxplot(test['Available Extra Rooms in Hospital'])"
   ]
  },
  {
   "cell_type": "code",
   "execution_count": 36,
   "metadata": {},
   "outputs": [
    {
     "data": {
      "text/plain": [
       "3.1909424545991816"
      ]
     },
     "execution_count": 36,
     "metadata": {},
     "output_type": "execute_result"
    }
   ],
   "source": [
    "test['Available Extra Rooms in Hospital'].mean()"
   ]
  },
  {
   "cell_type": "code",
   "execution_count": 37,
   "metadata": {},
   "outputs": [
    {
     "data": {
      "text/plain": [
       "137057"
      ]
     },
     "execution_count": 37,
     "metadata": {},
     "output_type": "execute_result"
    }
   ],
   "source": [
    "test['Available Extra Rooms in Hospital'].count()"
   ]
  },
  {
   "cell_type": "code",
   "execution_count": 38,
   "metadata": {},
   "outputs": [],
   "source": [
    "df['Age'] = df['Age'].astype(int)"
   ]
  },
  {
   "cell_type": "code",
   "execution_count": 39,
   "metadata": {},
   "outputs": [
    {
     "data": {
      "text/plain": [
       "<matplotlib.axes._subplots.AxesSubplot at 0x241d7853cc8>"
      ]
     },
     "execution_count": 39,
     "metadata": {},
     "output_type": "execute_result"
    },
    {
     "data": {
      "image/png": "[encoded data removed]",
      "text/plain": [
       "<Figure size 432x288 with 1 Axes>"
      ]
     },
     "metadata": {
      "needs_background": "light"
     },
     "output_type": "display_data"
    }
   ],
   "source": [
    "sns.countplot(df['Age'])"
   ]
  },
  {
   "cell_type": "code",
   "execution_count": 40,
   "metadata": {},
   "outputs": [
    {
     "data": {
      "text/plain": [
       "<matplotlib.axes._subplots.AxesSubplot at 0x241d78b7048>"
      ]
     },
     "execution_count": 40,
     "metadata": {},
     "output_type": "execute_result"
    },
    {
     "data": {
      "image/png": "[encoded data removed]",
      "text/plain": [
       "<Figure size 432x288 with 1 Axes>"
      ]
     },
     "metadata": {
      "needs_background": "light"
     },
     "output_type": "display_data"
    }
   ],
   "source": [
    "sns.countplot(test['Age'])"
   ]
  },
  {
   "cell_type": "code",
   "execution_count": 41,
   "metadata": {},
   "outputs": [
    {
     "data": {
      "text/plain": [
       "\"def change_Age():\\n    global df\\n    df['Age'] = df['Age'].max().fillna(df1['Age'].mean(), inplace=True)\""
      ]
     },
     "execution_count": 41,
     "metadata": {},
     "output_type": "execute_result"
    }
   ],
   "source": [
    "'''def change_Age():\n",
    "    global df\n",
    "    df['Age'] = df['Age'].max().fillna(df1['Age'].mean(), inplace=True)'''"
   ]
  },
  {
   "cell_type": "code",
   "execution_count": 42,
   "metadata": {},
   "outputs": [],
   "source": [
    "df['Age'] = df['Age'].replace(914,95)"
   ]
  },
  {
   "cell_type": "code",
   "execution_count": 43,
   "metadata": {},
   "outputs": [
    {
     "data": {
      "text/plain": [
       "<matplotlib.axes._subplots.AxesSubplot at 0x241d7aeecc8>"
      ]
     },
     "execution_count": 43,
     "metadata": {},
     "output_type": "execute_result"
    },
    {
     "data": {
      "image/png": "[encoded data removed]",
      "text/plain": [
       "<Figure size 432x288 with 1 Axes>"
      ]
     },
     "metadata": {
      "needs_background": "light"
     },
     "output_type": "display_data"
    }
   ],
   "source": [
    "sns.countplot(df['Age'])"
   ]
  },
  {
   "cell_type": "code",
   "execution_count": 44,
   "metadata": {},
   "outputs": [
    {
     "data": {
      "text/plain": [
       "<matplotlib.axes._subplots.AxesSubplot at 0x241d7b73308>"
      ]
     },
     "execution_count": 44,
     "metadata": {},
     "output_type": "execute_result"
    },
    {
     "data": {
      "image/png": "[encoded data removed]",
      "text/plain": [
       "<Figure size 432x288 with 1 Axes>"
      ]
     },
     "metadata": {
      "needs_background": "light"
     },
     "output_type": "display_data"
    }
   ],
   "source": [
    "sns.boxplot(df['City_Code_Patient'])"
   ]
  },
  {
   "cell_type": "code",
   "execution_count": 45,
   "metadata": {},
   "outputs": [
    {
     "data": {
      "text/plain": [
       "<matplotlib.axes._subplots.AxesSubplot at 0x241d7acd5c8>"
      ]
     },
     "execution_count": 45,
     "metadata": {},
     "output_type": "execute_result"
    },
    {
     "data": {
      "image/png": "[encoded data removed]",
      "text/plain": [
       "<Figure size 432x288 with 1 Axes>"
      ]
     },
     "metadata": {
      "needs_background": "light"
     },
     "output_type": "display_data"
    }
   ],
   "source": [
    "sns.boxplot(test['City_Code_Patient'])"
   ]
  },
  {
   "cell_type": "code",
   "execution_count": null,
   "metadata": {},
   "outputs": [],
   "source": [
    "\n"
   ]
  },
  {
   "cell_type": "code",
   "execution_count": 46,
   "metadata": {},
   "outputs": [
    {
     "data": {
      "text/plain": [
       "<matplotlib.axes._subplots.AxesSubplot at 0x241d84f4548>"
      ]
     },
     "execution_count": 46,
     "metadata": {},
     "output_type": "execute_result"
    },
    {
     "data": {
      "image/png": "[encoded data removed]",
      "text/plain": [
       "<Figure size 432x288 with 1 Axes>"
      ]
     },
     "metadata": {
      "needs_background": "light"
     },
     "output_type": "display_data"
    }
   ],
   "source": [
    "sns.countplot(df['City_Code_Patient'])"
   ]
  },
  {
   "cell_type": "code",
   "execution_count": 47,
   "metadata": {},
   "outputs": [
    {
     "data": {
      "text/plain": [
       "<matplotlib.axes._subplots.AxesSubplot at 0x241d8624d08>"
      ]
     },
     "execution_count": 47,
     "metadata": {},
     "output_type": "execute_result"
    },
    {
     "data": {
      "image/png": "[encoded data removed]",
      "text/plain": [
       "<Figure size 432x288 with 1 Axes>"
      ]
     },
     "metadata": {
      "needs_background": "light"
     },
     "output_type": "display_data"
    }
   ],
   "source": [
    "sns.countplot(test['City_Code_Patient'])"
   ]
  },
  {
   "cell_type": "code",
   "execution_count": 48,
   "metadata": {},
   "outputs": [
    {
     "data": {
      "text/plain": [
       "0"
      ]
     },
     "execution_count": 48,
     "metadata": {},
     "output_type": "execute_result"
    }
   ],
   "source": [
    "test['City_Code_Patient'].isnull().sum()"
   ]
  },
  {
   "cell_type": "code",
   "execution_count": 49,
   "metadata": {},
   "outputs": [],
   "source": [
    "def CCP_null():\n",
    "    global test\n",
    "    test['City_Code_Patient'].fillna(test['City_Code_Patient'].mean(), inplace=True)"
   ]
  },
  {
   "cell_type": "code",
   "execution_count": 50,
   "metadata": {},
   "outputs": [],
   "source": [
    "CCP_null()"
   ]
  },
  {
   "cell_type": "code",
   "execution_count": 51,
   "metadata": {},
   "outputs": [
    {
     "data": {
      "text/plain": [
       "0"
      ]
     },
     "execution_count": 51,
     "metadata": {},
     "output_type": "execute_result"
    }
   ],
   "source": [
    "test['City_Code_Patient'].isnull().sum()"
   ]
  },
  {
   "cell_type": "code",
   "execution_count": 52,
   "metadata": {},
   "outputs": [
    {
     "data": {
      "text/plain": [
       "<matplotlib.axes._subplots.AxesSubplot at 0x241d84d9348>"
      ]
     },
     "execution_count": 52,
     "metadata": {},
     "output_type": "execute_result"
    },
    {
     "data": {
      "image/png": "[encoded data removed]",
      "text/plain": [
       "<Figure size 432x288 with 1 Axes>"
      ]
     },
     "metadata": {
      "needs_background": "light"
     },
     "output_type": "display_data"
    }
   ],
   "source": [
    "sns.countplot(test['City_Code_Patient'])"
   ]
  },
  {
   "cell_type": "code",
   "execution_count": 53,
   "metadata": {},
   "outputs": [
    {
     "data": {
      "text/plain": [
       "dtype('float64')"
      ]
     },
     "execution_count": 53,
     "metadata": {},
     "output_type": "execute_result"
    }
   ],
   "source": [
    "test['City_Code_Patient'].dtypes"
   ]
  },
  {
   "cell_type": "code",
   "execution_count": 54,
   "metadata": {},
   "outputs": [],
   "source": [
    "test['City_Code_Patient'] = test['City_Code_Patient'].round(0).astype(int)"
   ]
  },
  {
   "cell_type": "code",
   "execution_count": 55,
   "metadata": {},
   "outputs": [
    {
     "data": {
      "text/plain": [
       "7.240155555717694"
      ]
     },
     "execution_count": 55,
     "metadata": {},
     "output_type": "execute_result"
    }
   ],
   "source": [
    "test['City_Code_Patient'].mean()"
   ]
  },
  {
   "cell_type": "code",
   "execution_count": 56,
   "metadata": {},
   "outputs": [
    {
     "data": {
      "text/plain": [
       "32"
      ]
     },
     "execution_count": 56,
     "metadata": {},
     "output_type": "execute_result"
    }
   ],
   "source": [
    "df['Visitors with Patient'].max()"
   ]
  },
  {
   "cell_type": "code",
   "execution_count": 57,
   "metadata": {},
   "outputs": [
    {
     "data": {
      "text/plain": [
       "32"
      ]
     },
     "execution_count": 57,
     "metadata": {},
     "output_type": "execute_result"
    }
   ],
   "source": [
    "test['Visitors with Patient'].max()"
   ]
  },
  {
   "cell_type": "code",
   "execution_count": 58,
   "metadata": {},
   "outputs": [
    {
     "data": {
      "text/plain": [
       "<matplotlib.axes._subplots.AxesSubplot at 0x241d54d4488>"
      ]
     },
     "execution_count": 58,
     "metadata": {},
     "output_type": "execute_result"
    },
    {
     "data": {
      "image/png": "[encoded data removed]",
      "text/plain": [
       "<Figure size 432x288 with 1 Axes>"
      ]
     },
     "metadata": {
      "needs_background": "light"
     },
     "output_type": "display_data"
    }
   ],
   "source": [
    "sns.boxplot(df['Visitors with Patient'])"
   ]
  },
  {
   "cell_type": "code",
   "execution_count": 59,
   "metadata": {},
   "outputs": [
    {
     "data": {
      "text/plain": [
       "<matplotlib.axes._subplots.AxesSubplot at 0x241e0218808>"
      ]
     },
     "execution_count": 59,
     "metadata": {},
     "output_type": "execute_result"
    },
    {
     "data": {
      "image/png": "[encoded data removed]",
      "text/plain": [
       "<Figure size 432x288 with 1 Axes>"
      ]
     },
     "metadata": {
      "needs_background": "light"
     },
     "output_type": "display_data"
    }
   ],
   "source": [
    "sns.boxplot(test['Visitors with Patient'])"
   ]
  },
  {
   "cell_type": "code",
   "execution_count": 60,
   "metadata": {},
   "outputs": [
    {
     "data": {
      "text/plain": [
       "<matplotlib.axes._subplots.AxesSubplot at 0x241e0264108>"
      ]
     },
     "execution_count": 60,
     "metadata": {},
     "output_type": "execute_result"
    },
    {
     "data": {
      "image/png": "[encoded data removed]",
      "text/plain": [
       "<Figure size 432x288 with 1 Axes>"
      ]
     },
     "metadata": {
      "needs_background": "light"
     },
     "output_type": "display_data"
    }
   ],
   "source": [
    "sns.countplot(test['Visitors with Patient'])"
   ]
  },
  {
   "cell_type": "code",
   "execution_count": 61,
   "metadata": {},
   "outputs": [],
   "source": [
    "test['Visitors with Patient'] = np.where(test['Visitors with Patient'] >= 13, 4, test['Visitors with Patient'])\n"
   ]
  },
  {
   "cell_type": "code",
   "execution_count": 62,
   "metadata": {},
   "outputs": [
    {
     "data": {
      "text/plain": [
       "<matplotlib.axes._subplots.AxesSubplot at 0x241e0370b88>"
      ]
     },
     "execution_count": 62,
     "metadata": {},
     "output_type": "execute_result"
    },
    {
     "data": {
      "image/png": "[encoded data removed]",
      "text/plain": [
       "<Figure size 432x288 with 1 Axes>"
      ]
     },
     "metadata": {
      "needs_background": "light"
     },
     "output_type": "display_data"
    }
   ],
   "source": [
    "sns.countplot(df['Visitors with Patient'])"
   ]
  },
  {
   "cell_type": "code",
   "execution_count": 63,
   "metadata": {},
   "outputs": [
    {
     "data": {
      "text/plain": [
       "<matplotlib.axes._subplots.AxesSubplot at 0x241e067c9c8>"
      ]
     },
     "execution_count": 63,
     "metadata": {},
     "output_type": "execute_result"
    },
    {
     "data": {
      "image/png": "[encoded data removed]",
      "text/plain": [
       "<Figure size 432x288 with 1 Axes>"
      ]
     },
     "metadata": {
      "needs_background": "light"
     },
     "output_type": "display_data"
    }
   ],
   "source": [
    "sns.countplot(df['Visitors with Patient'])"
   ]
  },
  {
   "cell_type": "code",
   "execution_count": 64,
   "metadata": {},
   "outputs": [],
   "source": [
    "df['Visitors with Patient'] = np.where(df['Visitors with Patient'] >= 13, 4, df['Visitors with Patient'])\n"
   ]
  },
  {
   "cell_type": "code",
   "execution_count": 65,
   "metadata": {},
   "outputs": [
    {
     "data": {
      "text/plain": [
       "3.240470672469994"
      ]
     },
     "execution_count": 65,
     "metadata": {},
     "output_type": "execute_result"
    }
   ],
   "source": [
    "df['Visitors with Patient'].mean()"
   ]
  },
  {
   "cell_type": "code",
   "execution_count": 66,
   "metadata": {},
   "outputs": [
    {
     "data": {
      "text/html": [
       "<div>\n",
       "<style scoped>\n",
       "    .dataframe tbody tr th:only-of-type {\n",
       "        vertical-align: middle;\n",
       "    }\n",
       "\n",
       "    .dataframe tbody tr th {\n",
       "        vertical-align: top;\n",
       "    }\n",
       "\n",
       "    .dataframe thead th {\n",
       "        text-align: right;\n",
       "    }\n",
       "</style>\n",
       "<table border=\"1\" class=\"dataframe\">\n",
       "  <thead>\n",
       "    <tr style=\"text-align: right;\">\n",
       "      <th></th>\n",
       "      <th>Unnamed: 0</th>\n",
       "      <th>Hospital_code</th>\n",
       "      <th>Hospital_type_code</th>\n",
       "      <th>City_Code_Hospital</th>\n",
       "      <th>Hospital_region_code</th>\n",
       "      <th>Available Extra Rooms in Hospital</th>\n",
       "      <th>Department</th>\n",
       "      <th>Ward_Type</th>\n",
       "      <th>Ward_Facility_Code</th>\n",
       "      <th>Bed Grade</th>\n",
       "      <th>patientid</th>\n",
       "      <th>City_Code_Patient</th>\n",
       "      <th>Type of Admission</th>\n",
       "      <th>Severity of Illness</th>\n",
       "      <th>Visitors with Patient</th>\n",
       "      <th>Age</th>\n",
       "      <th>Admission_Deposit</th>\n",
       "    </tr>\n",
       "  </thead>\n",
       "  <tbody>\n",
       "    <tr>\n",
       "      <td>count</td>\n",
       "      <td>318438.000000</td>\n",
       "      <td>318438.000000</td>\n",
       "      <td>318438.000000</td>\n",
       "      <td>318438.000000</td>\n",
       "      <td>318438.000000</td>\n",
       "      <td>318438.000000</td>\n",
       "      <td>318438.000000</td>\n",
       "      <td>318438.000000</td>\n",
       "      <td>318438.000000</td>\n",
       "      <td>318438.000000</td>\n",
       "      <td>318438.000000</td>\n",
       "      <td>318438.000000</td>\n",
       "      <td>318438.000000</td>\n",
       "      <td>318438.000000</td>\n",
       "      <td>318438.000000</td>\n",
       "      <td>318438.000000</td>\n",
       "      <td>318438.000000</td>\n",
       "    </tr>\n",
       "    <tr>\n",
       "      <td>mean</td>\n",
       "      <td>159218.500000</td>\n",
       "      <td>18.318841</td>\n",
       "      <td>2.256841</td>\n",
       "      <td>4.771717</td>\n",
       "      <td>1.778098</td>\n",
       "      <td>3.195253</td>\n",
       "      <td>2.765439</td>\n",
       "      <td>2.571028</td>\n",
       "      <td>4.286913</td>\n",
       "      <td>2.625940</td>\n",
       "      <td>65747.579472</td>\n",
       "      <td>7.262506</td>\n",
       "      <td>2.325841</td>\n",
       "      <td>1.908463</td>\n",
       "      <td>3.240471</td>\n",
       "      <td>46.258129</td>\n",
       "      <td>4880.749392</td>\n",
       "    </tr>\n",
       "    <tr>\n",
       "      <td>std</td>\n",
       "      <td>91925.276847</td>\n",
       "      <td>8.633755</td>\n",
       "      <td>1.535712</td>\n",
       "      <td>3.102535</td>\n",
       "      <td>0.752527</td>\n",
       "      <td>1.158273</td>\n",
       "      <td>0.664438</td>\n",
       "      <td>1.195204</td>\n",
       "      <td>1.688050</td>\n",
       "      <td>0.873019</td>\n",
       "      <td>37979.936440</td>\n",
       "      <td>4.712210</td>\n",
       "      <td>0.724078</td>\n",
       "      <td>0.662886</td>\n",
       "      <td>1.565097</td>\n",
       "      <td>18.939035</td>\n",
       "      <td>1086.776254</td>\n",
       "    </tr>\n",
       "    <tr>\n",
       "      <td>min</td>\n",
       "      <td>0.000000</td>\n",
       "      <td>1.000000</td>\n",
       "      <td>1.000000</td>\n",
       "      <td>1.000000</td>\n",
       "      <td>1.000000</td>\n",
       "      <td>0.000000</td>\n",
       "      <td>1.000000</td>\n",
       "      <td>1.000000</td>\n",
       "      <td>1.000000</td>\n",
       "      <td>1.000000</td>\n",
       "      <td>1.000000</td>\n",
       "      <td>1.000000</td>\n",
       "      <td>1.000000</td>\n",
       "      <td>1.000000</td>\n",
       "      <td>0.000000</td>\n",
       "      <td>4.000000</td>\n",
       "      <td>1800.000000</td>\n",
       "    </tr>\n",
       "    <tr>\n",
       "      <td>25%</td>\n",
       "      <td>79609.250000</td>\n",
       "      <td>11.000000</td>\n",
       "      <td>1.000000</td>\n",
       "      <td>2.000000</td>\n",
       "      <td>1.000000</td>\n",
       "      <td>2.000000</td>\n",
       "      <td>3.000000</td>\n",
       "      <td>1.000000</td>\n",
       "      <td>3.000000</td>\n",
       "      <td>2.000000</td>\n",
       "      <td>32847.000000</td>\n",
       "      <td>4.000000</td>\n",
       "      <td>2.000000</td>\n",
       "      <td>1.000000</td>\n",
       "      <td>2.000000</td>\n",
       "      <td>35.000000</td>\n",
       "      <td>4186.000000</td>\n",
       "    </tr>\n",
       "    <tr>\n",
       "      <td>50%</td>\n",
       "      <td>159218.500000</td>\n",
       "      <td>19.000000</td>\n",
       "      <td>2.000000</td>\n",
       "      <td>5.000000</td>\n",
       "      <td>2.000000</td>\n",
       "      <td>3.000000</td>\n",
       "      <td>3.000000</td>\n",
       "      <td>3.000000</td>\n",
       "      <td>5.000000</td>\n",
       "      <td>3.000000</td>\n",
       "      <td>65724.500000</td>\n",
       "      <td>8.000000</td>\n",
       "      <td>2.000000</td>\n",
       "      <td>2.000000</td>\n",
       "      <td>3.000000</td>\n",
       "      <td>45.000000</td>\n",
       "      <td>4741.000000</td>\n",
       "    </tr>\n",
       "    <tr>\n",
       "      <td>75%</td>\n",
       "      <td>238827.750000</td>\n",
       "      <td>26.000000</td>\n",
       "      <td>3.000000</td>\n",
       "      <td>7.000000</td>\n",
       "      <td>2.000000</td>\n",
       "      <td>4.000000</td>\n",
       "      <td>3.000000</td>\n",
       "      <td>3.000000</td>\n",
       "      <td>6.000000</td>\n",
       "      <td>3.000000</td>\n",
       "      <td>98470.000000</td>\n",
       "      <td>8.000000</td>\n",
       "      <td>3.000000</td>\n",
       "      <td>2.000000</td>\n",
       "      <td>4.000000</td>\n",
       "      <td>55.000000</td>\n",
       "      <td>5409.000000</td>\n",
       "    </tr>\n",
       "    <tr>\n",
       "      <td>max</td>\n",
       "      <td>318437.000000</td>\n",
       "      <td>32.000000</td>\n",
       "      <td>7.000000</td>\n",
       "      <td>13.000000</td>\n",
       "      <td>3.000000</td>\n",
       "      <td>9.000000</td>\n",
       "      <td>5.000000</td>\n",
       "      <td>6.000000</td>\n",
       "      <td>6.000000</td>\n",
       "      <td>4.000000</td>\n",
       "      <td>131624.000000</td>\n",
       "      <td>38.000000</td>\n",
       "      <td>3.000000</td>\n",
       "      <td>3.000000</td>\n",
       "      <td>12.000000</td>\n",
       "      <td>95.000000</td>\n",
       "      <td>11008.000000</td>\n",
       "    </tr>\n",
       "  </tbody>\n",
       "</table>\n",
       "</div>"
      ],
      "text/plain": [
       "          Unnamed: 0  Hospital_code  Hospital_type_code  City_Code_Hospital  \\\n",
       "count  318438.000000  318438.000000       318438.000000       318438.000000   \n",
       "mean   159218.500000      18.318841            2.256841            4.771717   \n",
       "std     91925.276847       8.633755            1.535712            3.102535   \n",
       "min         0.000000       1.000000            1.000000            1.000000   \n",
       "25%     79609.250000      11.000000            1.000000            2.000000   \n",
       "50%    159218.500000      19.000000            2.000000            5.000000   \n",
       "75%    238827.750000      26.000000            3.000000            7.000000   \n",
       "max    318437.000000      32.000000            7.000000           13.000000   \n",
       "\n",
       "       Hospital_region_code  Available Extra Rooms in Hospital     Department  \\\n",
       "count         318438.000000                      318438.000000  318438.000000   \n",
       "mean               1.778098                           3.195253       2.765439   \n",
       "std                0.752527                           1.158273       0.664438   \n",
       "min                1.000000                           0.000000       1.000000   \n",
       "25%                1.000000                           2.000000       3.000000   \n",
       "50%                2.000000                           3.000000       3.000000   \n",
       "75%                2.000000                           4.000000       3.000000   \n",
       "max                3.000000                           9.000000       5.000000   \n",
       "\n",
       "           Ward_Type  Ward_Facility_Code      Bed Grade      patientid  \\\n",
       "count  318438.000000       318438.000000  318438.000000  318438.000000   \n",
       "mean        2.571028            4.286913       2.625940   65747.579472   \n",
       "std         1.195204            1.688050       0.873019   37979.936440   \n",
       "min         1.000000            1.000000       1.000000       1.000000   \n",
       "25%         1.000000            3.000000       2.000000   32847.000000   \n",
       "50%         3.000000            5.000000       3.000000   65724.500000   \n",
       "75%         3.000000            6.000000       3.000000   98470.000000   \n",
       "max         6.000000            6.000000       4.000000  131624.000000   \n",
       "\n",
       "       City_Code_Patient  Type of Admission  Severity of Illness  \\\n",
       "count      318438.000000      318438.000000        318438.000000   \n",
       "mean            7.262506           2.325841             1.908463   \n",
       "std             4.712210           0.724078             0.662886   \n",
       "min             1.000000           1.000000             1.000000   \n",
       "25%             4.000000           2.000000             1.000000   \n",
       "50%             8.000000           2.000000             2.000000   \n",
       "75%             8.000000           3.000000             2.000000   \n",
       "max            38.000000           3.000000             3.000000   \n",
       "\n",
       "       Visitors with Patient            Age  Admission_Deposit  \n",
       "count          318438.000000  318438.000000      318438.000000  \n",
       "mean                3.240471      46.258129        4880.749392  \n",
       "std                 1.565097      18.939035        1086.776254  \n",
       "min                 0.000000       4.000000        1800.000000  \n",
       "25%                 2.000000      35.000000        4186.000000  \n",
       "50%                 3.000000      45.000000        4741.000000  \n",
       "75%                 4.000000      55.000000        5409.000000  \n",
       "max                12.000000      95.000000       11008.000000  "
      ]
     },
     "execution_count": 66,
     "metadata": {},
     "output_type": "execute_result"
    }
   ],
   "source": [
    "df.describe()"
   ]
  },
  {
   "cell_type": "code",
   "execution_count": 67,
   "metadata": {},
   "outputs": [
    {
     "data": {
      "text/plain": [
       "<matplotlib.axes._subplots.AxesSubplot at 0x241e03d4808>"
      ]
     },
     "execution_count": 67,
     "metadata": {},
     "output_type": "execute_result"
    },
    {
     "data": {
      "image/png": "[encoded data removed]",
      "text/plain": [
       "<Figure size 432x288 with 1 Axes>"
      ]
     },
     "metadata": {
      "needs_background": "light"
     },
     "output_type": "display_data"
    }
   ],
   "source": [
    "sns.boxplot(df['Admission_Deposit'])"
   ]
  },
  {
   "cell_type": "code",
   "execution_count": 68,
   "metadata": {},
   "outputs": [
    {
     "data": {
      "text/html": [
       "<div>\n",
       "<style scoped>\n",
       "    .dataframe tbody tr th:only-of-type {\n",
       "        vertical-align: middle;\n",
       "    }\n",
       "\n",
       "    .dataframe tbody tr th {\n",
       "        vertical-align: top;\n",
       "    }\n",
       "\n",
       "    .dataframe thead th {\n",
       "        text-align: right;\n",
       "    }\n",
       "</style>\n",
       "<table border=\"1\" class=\"dataframe\">\n",
       "  <thead>\n",
       "    <tr style=\"text-align: right;\">\n",
       "      <th></th>\n",
       "      <th>Unnamed: 0</th>\n",
       "      <th>Hospital_code</th>\n",
       "      <th>Hospital_type_code</th>\n",
       "      <th>City_Code_Hospital</th>\n",
       "      <th>Hospital_region_code</th>\n",
       "      <th>Available Extra Rooms in Hospital</th>\n",
       "      <th>Department</th>\n",
       "      <th>Ward_Type</th>\n",
       "      <th>Ward_Facility_Code</th>\n",
       "      <th>Bed Grade</th>\n",
       "      <th>patientid</th>\n",
       "      <th>City_Code_Patient</th>\n",
       "      <th>Type of Admission</th>\n",
       "      <th>Severity of Illness</th>\n",
       "      <th>Visitors with Patient</th>\n",
       "      <th>Age</th>\n",
       "      <th>Admission_Deposit</th>\n",
       "    </tr>\n",
       "  </thead>\n",
       "  <tbody>\n",
       "    <tr>\n",
       "      <td>Unnamed: 0</td>\n",
       "      <td>1.000000</td>\n",
       "      <td>-0.043023</td>\n",
       "      <td>0.001877</td>\n",
       "      <td>-0.011352</td>\n",
       "      <td>0.006262</td>\n",
       "      <td>0.042971</td>\n",
       "      <td>0.023430</td>\n",
       "      <td>-0.030094</td>\n",
       "      <td>-0.011546</td>\n",
       "      <td>0.013691</td>\n",
       "      <td>-0.004150</td>\n",
       "      <td>0.065207</td>\n",
       "      <td>-0.138287</td>\n",
       "      <td>-0.151218</td>\n",
       "      <td>0.001610</td>\n",
       "      <td>-0.115008</td>\n",
       "      <td>-0.045972</td>\n",
       "    </tr>\n",
       "    <tr>\n",
       "      <td>Hospital_code</td>\n",
       "      <td>-0.043023</td>\n",
       "      <td>1.000000</td>\n",
       "      <td>0.039449</td>\n",
       "      <td>0.128294</td>\n",
       "      <td>-0.135920</td>\n",
       "      <td>-0.061111</td>\n",
       "      <td>-0.008027</td>\n",
       "      <td>0.195506</td>\n",
       "      <td>-0.132347</td>\n",
       "      <td>-0.013948</td>\n",
       "      <td>0.002291</td>\n",
       "      <td>-0.015477</td>\n",
       "      <td>0.004417</td>\n",
       "      <td>0.030949</td>\n",
       "      <td>-0.032790</td>\n",
       "      <td>0.016341</td>\n",
       "      <td>0.045446</td>\n",
       "    </tr>\n",
       "    <tr>\n",
       "      <td>Hospital_type_code</td>\n",
       "      <td>0.001877</td>\n",
       "      <td>0.039449</td>\n",
       "      <td>1.000000</td>\n",
       "      <td>-0.000839</td>\n",
       "      <td>0.268962</td>\n",
       "      <td>-0.103331</td>\n",
       "      <td>0.031020</td>\n",
       "      <td>0.211400</td>\n",
       "      <td>-0.265768</td>\n",
       "      <td>0.018642</td>\n",
       "      <td>-0.003010</td>\n",
       "      <td>0.055272</td>\n",
       "      <td>0.010012</td>\n",
       "      <td>0.006894</td>\n",
       "      <td>-0.046404</td>\n",
       "      <td>0.006008</td>\n",
       "      <td>0.025341</td>\n",
       "    </tr>\n",
       "    <tr>\n",
       "      <td>City_Code_Hospital</td>\n",
       "      <td>-0.011352</td>\n",
       "      <td>0.128294</td>\n",
       "      <td>-0.000839</td>\n",
       "      <td>1.000000</td>\n",
       "      <td>0.008311</td>\n",
       "      <td>-0.045448</td>\n",
       "      <td>0.015057</td>\n",
       "      <td>0.129707</td>\n",
       "      <td>-0.100474</td>\n",
       "      <td>-0.049248</td>\n",
       "      <td>0.000750</td>\n",
       "      <td>-0.024161</td>\n",
       "      <td>-0.032415</td>\n",
       "      <td>0.026350</td>\n",
       "      <td>0.020910</td>\n",
       "      <td>0.020484</td>\n",
       "      <td>-0.034455</td>\n",
       "    </tr>\n",
       "    <tr>\n",
       "      <td>Hospital_region_code</td>\n",
       "      <td>0.006262</td>\n",
       "      <td>-0.135920</td>\n",
       "      <td>0.268962</td>\n",
       "      <td>0.008311</td>\n",
       "      <td>1.000000</td>\n",
       "      <td>-0.007408</td>\n",
       "      <td>0.017859</td>\n",
       "      <td>0.058559</td>\n",
       "      <td>-0.507350</td>\n",
       "      <td>-0.042680</td>\n",
       "      <td>-0.002083</td>\n",
       "      <td>0.150714</td>\n",
       "      <td>-0.058217</td>\n",
       "      <td>0.029454</td>\n",
       "      <td>-0.018069</td>\n",
       "      <td>-0.017071</td>\n",
       "      <td>0.075092</td>\n",
       "    </tr>\n",
       "    <tr>\n",
       "      <td>Available Extra Rooms in Hospital</td>\n",
       "      <td>0.042971</td>\n",
       "      <td>-0.061111</td>\n",
       "      <td>-0.103331</td>\n",
       "      <td>-0.045448</td>\n",
       "      <td>-0.007408</td>\n",
       "      <td>1.000000</td>\n",
       "      <td>0.073645</td>\n",
       "      <td>-0.399013</td>\n",
       "      <td>0.051277</td>\n",
       "      <td>-0.117187</td>\n",
       "      <td>0.001275</td>\n",
       "      <td>-0.009913</td>\n",
       "      <td>-0.042025</td>\n",
       "      <td>-0.003970</td>\n",
       "      <td>0.111724</td>\n",
       "      <td>-0.134707</td>\n",
       "      <td>-0.144105</td>\n",
       "    </tr>\n",
       "    <tr>\n",
       "      <td>Department</td>\n",
       "      <td>0.023430</td>\n",
       "      <td>-0.008027</td>\n",
       "      <td>0.031020</td>\n",
       "      <td>0.015057</td>\n",
       "      <td>0.017859</td>\n",
       "      <td>0.073645</td>\n",
       "      <td>1.000000</td>\n",
       "      <td>-0.021908</td>\n",
       "      <td>-0.009210</td>\n",
       "      <td>-0.054986</td>\n",
       "      <td>-0.004353</td>\n",
       "      <td>-0.006636</td>\n",
       "      <td>-0.030816</td>\n",
       "      <td>-0.018254</td>\n",
       "      <td>0.015671</td>\n",
       "      <td>-0.099280</td>\n",
       "      <td>-0.055692</td>\n",
       "    </tr>\n",
       "    <tr>\n",
       "      <td>Ward_Type</td>\n",
       "      <td>-0.030094</td>\n",
       "      <td>0.195506</td>\n",
       "      <td>0.211400</td>\n",
       "      <td>0.129707</td>\n",
       "      <td>0.058559</td>\n",
       "      <td>-0.399013</td>\n",
       "      <td>-0.021908</td>\n",
       "      <td>1.000000</td>\n",
       "      <td>-0.129028</td>\n",
       "      <td>-0.006296</td>\n",
       "      <td>0.001257</td>\n",
       "      <td>0.005576</td>\n",
       "      <td>-0.001879</td>\n",
       "      <td>-0.007936</td>\n",
       "      <td>-0.100932</td>\n",
       "      <td>0.023718</td>\n",
       "      <td>0.056740</td>\n",
       "    </tr>\n",
       "    <tr>\n",
       "      <td>Ward_Facility_Code</td>\n",
       "      <td>-0.011546</td>\n",
       "      <td>-0.132347</td>\n",
       "      <td>-0.265768</td>\n",
       "      <td>-0.100474</td>\n",
       "      <td>-0.507350</td>\n",
       "      <td>0.051277</td>\n",
       "      <td>-0.009210</td>\n",
       "      <td>-0.129028</td>\n",
       "      <td>1.000000</td>\n",
       "      <td>0.075984</td>\n",
       "      <td>0.001923</td>\n",
       "      <td>-0.139691</td>\n",
       "      <td>0.066908</td>\n",
       "      <td>-0.036152</td>\n",
       "      <td>0.021553</td>\n",
       "      <td>-0.000390</td>\n",
       "      <td>-0.023057</td>\n",
       "    </tr>\n",
       "    <tr>\n",
       "      <td>Bed Grade</td>\n",
       "      <td>0.013691</td>\n",
       "      <td>-0.013948</td>\n",
       "      <td>0.018642</td>\n",
       "      <td>-0.049248</td>\n",
       "      <td>-0.042680</td>\n",
       "      <td>-0.117187</td>\n",
       "      <td>-0.054986</td>\n",
       "      <td>-0.006296</td>\n",
       "      <td>0.075984</td>\n",
       "      <td>1.000000</td>\n",
       "      <td>0.001638</td>\n",
       "      <td>-0.007581</td>\n",
       "      <td>0.049850</td>\n",
       "      <td>-0.284407</td>\n",
       "      <td>0.077781</td>\n",
       "      <td>0.001523</td>\n",
       "      <td>0.073779</td>\n",
       "    </tr>\n",
       "    <tr>\n",
       "      <td>patientid</td>\n",
       "      <td>-0.004150</td>\n",
       "      <td>0.002291</td>\n",
       "      <td>-0.003010</td>\n",
       "      <td>0.000750</td>\n",
       "      <td>-0.002083</td>\n",
       "      <td>0.001275</td>\n",
       "      <td>-0.004353</td>\n",
       "      <td>0.001257</td>\n",
       "      <td>0.001923</td>\n",
       "      <td>0.001638</td>\n",
       "      <td>1.000000</td>\n",
       "      <td>0.002009</td>\n",
       "      <td>-0.004391</td>\n",
       "      <td>-0.006397</td>\n",
       "      <td>0.005605</td>\n",
       "      <td>-0.001495</td>\n",
       "      <td>-0.000877</td>\n",
       "    </tr>\n",
       "    <tr>\n",
       "      <td>City_Code_Patient</td>\n",
       "      <td>0.065207</td>\n",
       "      <td>-0.015477</td>\n",
       "      <td>0.055272</td>\n",
       "      <td>-0.024161</td>\n",
       "      <td>0.150714</td>\n",
       "      <td>-0.009913</td>\n",
       "      <td>-0.006636</td>\n",
       "      <td>0.005576</td>\n",
       "      <td>-0.139691</td>\n",
       "      <td>-0.007581</td>\n",
       "      <td>0.002009</td>\n",
       "      <td>1.000000</td>\n",
       "      <td>-0.034548</td>\n",
       "      <td>-0.017362</td>\n",
       "      <td>-0.010237</td>\n",
       "      <td>-0.016370</td>\n",
       "      <td>0.025485</td>\n",
       "    </tr>\n",
       "    <tr>\n",
       "      <td>Type of Admission</td>\n",
       "      <td>-0.138287</td>\n",
       "      <td>0.004417</td>\n",
       "      <td>0.010012</td>\n",
       "      <td>-0.032415</td>\n",
       "      <td>-0.058217</td>\n",
       "      <td>-0.042025</td>\n",
       "      <td>-0.030816</td>\n",
       "      <td>-0.001879</td>\n",
       "      <td>0.066908</td>\n",
       "      <td>0.049850</td>\n",
       "      <td>-0.004391</td>\n",
       "      <td>-0.034548</td>\n",
       "      <td>1.000000</td>\n",
       "      <td>0.047165</td>\n",
       "      <td>0.015229</td>\n",
       "      <td>0.100949</td>\n",
       "      <td>0.075895</td>\n",
       "    </tr>\n",
       "    <tr>\n",
       "      <td>Severity of Illness</td>\n",
       "      <td>-0.151218</td>\n",
       "      <td>0.030949</td>\n",
       "      <td>0.006894</td>\n",
       "      <td>0.026350</td>\n",
       "      <td>0.029454</td>\n",
       "      <td>-0.003970</td>\n",
       "      <td>-0.018254</td>\n",
       "      <td>-0.007936</td>\n",
       "      <td>-0.036152</td>\n",
       "      <td>-0.284407</td>\n",
       "      <td>-0.006397</td>\n",
       "      <td>-0.017362</td>\n",
       "      <td>0.047165</td>\n",
       "      <td>1.000000</td>\n",
       "      <td>0.044488</td>\n",
       "      <td>0.125271</td>\n",
       "      <td>-0.070892</td>\n",
       "    </tr>\n",
       "    <tr>\n",
       "      <td>Visitors with Patient</td>\n",
       "      <td>0.001610</td>\n",
       "      <td>-0.032790</td>\n",
       "      <td>-0.046404</td>\n",
       "      <td>0.020910</td>\n",
       "      <td>-0.018069</td>\n",
       "      <td>0.111724</td>\n",
       "      <td>0.015671</td>\n",
       "      <td>-0.100932</td>\n",
       "      <td>0.021553</td>\n",
       "      <td>0.077781</td>\n",
       "      <td>0.005605</td>\n",
       "      <td>-0.010237</td>\n",
       "      <td>0.015229</td>\n",
       "      <td>0.044488</td>\n",
       "      <td>1.000000</td>\n",
       "      <td>0.074773</td>\n",
       "      <td>-0.159640</td>\n",
       "    </tr>\n",
       "    <tr>\n",
       "      <td>Age</td>\n",
       "      <td>-0.115008</td>\n",
       "      <td>0.016341</td>\n",
       "      <td>0.006008</td>\n",
       "      <td>0.020484</td>\n",
       "      <td>-0.017071</td>\n",
       "      <td>-0.134707</td>\n",
       "      <td>-0.099280</td>\n",
       "      <td>0.023718</td>\n",
       "      <td>-0.000390</td>\n",
       "      <td>0.001523</td>\n",
       "      <td>-0.001495</td>\n",
       "      <td>-0.016370</td>\n",
       "      <td>0.100949</td>\n",
       "      <td>0.125271</td>\n",
       "      <td>0.074773</td>\n",
       "      <td>1.000000</td>\n",
       "      <td>0.025056</td>\n",
       "    </tr>\n",
       "    <tr>\n",
       "      <td>Admission_Deposit</td>\n",
       "      <td>-0.045972</td>\n",
       "      <td>0.045446</td>\n",
       "      <td>0.025341</td>\n",
       "      <td>-0.034455</td>\n",
       "      <td>0.075092</td>\n",
       "      <td>-0.144105</td>\n",
       "      <td>-0.055692</td>\n",
       "      <td>0.056740</td>\n",
       "      <td>-0.023057</td>\n",
       "      <td>0.073779</td>\n",
       "      <td>-0.000877</td>\n",
       "      <td>0.025485</td>\n",
       "      <td>0.075895</td>\n",
       "      <td>-0.070892</td>\n",
       "      <td>-0.159640</td>\n",
       "      <td>0.025056</td>\n",
       "      <td>1.000000</td>\n",
       "    </tr>\n",
       "  </tbody>\n",
       "</table>\n",
       "</div>"
      ],
      "text/plain": [
       "                                   Unnamed: 0  Hospital_code  \\\n",
       "Unnamed: 0                           1.000000      -0.043023   \n",
       "Hospital_code                       -0.043023       1.000000   \n",
       "Hospital_type_code                   0.001877       0.039449   \n",
       "City_Code_Hospital                  -0.011352       0.128294   \n",
       "Hospital_region_code                 0.006262      -0.135920   \n",
       "Available Extra Rooms in Hospital    0.042971      -0.061111   \n",
       "Department                           0.023430      -0.008027   \n",
       "Ward_Type                           -0.030094       0.195506   \n",
       "Ward_Facility_Code                  -0.011546      -0.132347   \n",
       "Bed Grade                            0.013691      -0.013948   \n",
       "patientid                           -0.004150       0.002291   \n",
       "City_Code_Patient                    0.065207      -0.015477   \n",
       "Type of Admission                   -0.138287       0.004417   \n",
       "Severity of Illness                 -0.151218       0.030949   \n",
       "Visitors with Patient                0.001610      -0.032790   \n",
       "Age                                 -0.115008       0.016341   \n",
       "Admission_Deposit                   -0.045972       0.045446   \n",
       "\n",
       "                                   Hospital_type_code  City_Code_Hospital  \\\n",
       "Unnamed: 0                                   0.001877           -0.011352   \n",
       "Hospital_code                                0.039449            0.128294   \n",
       "Hospital_type_code                           1.000000           -0.000839   \n",
       "City_Code_Hospital                          -0.000839            1.000000   \n",
       "Hospital_region_code                         0.268962            0.008311   \n",
       "Available Extra Rooms in Hospital           -0.103331           -0.045448   \n",
       "Department                                   0.031020            0.015057   \n",
       "Ward_Type                                    0.211400            0.129707   \n",
       "Ward_Facility_Code                          -0.265768           -0.100474   \n",
       "Bed Grade                                    0.018642           -0.049248   \n",
       "patientid                                   -0.003010            0.000750   \n",
       "City_Code_Patient                            0.055272           -0.024161   \n",
       "Type of Admission                            0.010012           -0.032415   \n",
       "Severity of Illness                          0.006894            0.026350   \n",
       "Visitors with Patient                       -0.046404            0.020910   \n",
       "Age                                          0.006008            0.020484   \n",
       "Admission_Deposit                            0.025341           -0.034455   \n",
       "\n",
       "                                   Hospital_region_code  \\\n",
       "Unnamed: 0                                     0.006262   \n",
       "Hospital_code                                 -0.135920   \n",
       "Hospital_type_code                             0.268962   \n",
       "City_Code_Hospital                             0.008311   \n",
       "Hospital_region_code                           1.000000   \n",
       "Available Extra Rooms in Hospital             -0.007408   \n",
       "Department                                     0.017859   \n",
       "Ward_Type                                      0.058559   \n",
       "Ward_Facility_Code                            -0.507350   \n",
       "Bed Grade                                     -0.042680   \n",
       "patientid                                     -0.002083   \n",
       "City_Code_Patient                              0.150714   \n",
       "Type of Admission                             -0.058217   \n",
       "Severity of Illness                            0.029454   \n",
       "Visitors with Patient                         -0.018069   \n",
       "Age                                           -0.017071   \n",
       "Admission_Deposit                              0.075092   \n",
       "\n",
       "                                   Available Extra Rooms in Hospital  \\\n",
       "Unnamed: 0                                                  0.042971   \n",
       "Hospital_code                                              -0.061111   \n",
       "Hospital_type_code                                         -0.103331   \n",
       "City_Code_Hospital                                         -0.045448   \n",
       "Hospital_region_code                                       -0.007408   \n",
       "Available Extra Rooms in Hospital                           1.000000   \n",
       "Department                                                  0.073645   \n",
       "Ward_Type                                                  -0.399013   \n",
       "Ward_Facility_Code                                          0.051277   \n",
       "Bed Grade                                                  -0.117187   \n",
       "patientid                                                   0.001275   \n",
       "City_Code_Patient                                          -0.009913   \n",
       "Type of Admission                                          -0.042025   \n",
       "Severity of Illness                                        -0.003970   \n",
       "Visitors with Patient                                       0.111724   \n",
       "Age                                                        -0.134707   \n",
       "Admission_Deposit                                          -0.144105   \n",
       "\n",
       "                                   Department  Ward_Type  Ward_Facility_Code  \\\n",
       "Unnamed: 0                           0.023430  -0.030094           -0.011546   \n",
       "Hospital_code                       -0.008027   0.195506           -0.132347   \n",
       "Hospital_type_code                   0.031020   0.211400           -0.265768   \n",
       "City_Code_Hospital                   0.015057   0.129707           -0.100474   \n",
       "Hospital_region_code                 0.017859   0.058559           -0.507350   \n",
       "Available Extra Rooms in Hospital    0.073645  -0.399013            0.051277   \n",
       "Department                           1.000000  -0.021908           -0.009210   \n",
       "Ward_Type                           -0.021908   1.000000           -0.129028   \n",
       "Ward_Facility_Code                  -0.009210  -0.129028            1.000000   \n",
       "Bed Grade                           -0.054986  -0.006296            0.075984   \n",
       "patientid                           -0.004353   0.001257            0.001923   \n",
       "City_Code_Patient                   -0.006636   0.005576           -0.139691   \n",
       "Type of Admission                   -0.030816  -0.001879            0.066908   \n",
       "Severity of Illness                 -0.018254  -0.007936           -0.036152   \n",
       "Visitors with Patient                0.015671  -0.100932            0.021553   \n",
       "Age                                 -0.099280   0.023718           -0.000390   \n",
       "Admission_Deposit                   -0.055692   0.056740           -0.023057   \n",
       "\n",
       "                                   Bed Grade  patientid  City_Code_Patient  \\\n",
       "Unnamed: 0                          0.013691  -0.004150           0.065207   \n",
       "Hospital_code                      -0.013948   0.002291          -0.015477   \n",
       "Hospital_type_code                  0.018642  -0.003010           0.055272   \n",
       "City_Code_Hospital                 -0.049248   0.000750          -0.024161   \n",
       "Hospital_region_code               -0.042680  -0.002083           0.150714   \n",
       "Available Extra Rooms in Hospital  -0.117187   0.001275          -0.009913   \n",
       "Department                         -0.054986  -0.004353          -0.006636   \n",
       "Ward_Type                          -0.006296   0.001257           0.005576   \n",
       "Ward_Facility_Code                  0.075984   0.001923          -0.139691   \n",
       "Bed Grade                           1.000000   0.001638          -0.007581   \n",
       "patientid                           0.001638   1.000000           0.002009   \n",
       "City_Code_Patient                  -0.007581   0.002009           1.000000   \n",
       "Type of Admission                   0.049850  -0.004391          -0.034548   \n",
       "Severity of Illness                -0.284407  -0.006397          -0.017362   \n",
       "Visitors with Patient               0.077781   0.005605          -0.010237   \n",
       "Age                                 0.001523  -0.001495          -0.016370   \n",
       "Admission_Deposit                   0.073779  -0.000877           0.025485   \n",
       "\n",
       "                                   Type of Admission  Severity of Illness  \\\n",
       "Unnamed: 0                                 -0.138287            -0.151218   \n",
       "Hospital_code                               0.004417             0.030949   \n",
       "Hospital_type_code                          0.010012             0.006894   \n",
       "City_Code_Hospital                         -0.032415             0.026350   \n",
       "Hospital_region_code                       -0.058217             0.029454   \n",
       "Available Extra Rooms in Hospital          -0.042025            -0.003970   \n",
       "Department                                 -0.030816            -0.018254   \n",
       "Ward_Type                                  -0.001879            -0.007936   \n",
       "Ward_Facility_Code                          0.066908            -0.036152   \n",
       "Bed Grade                                   0.049850            -0.284407   \n",
       "patientid                                  -0.004391            -0.006397   \n",
       "City_Code_Patient                          -0.034548            -0.017362   \n",
       "Type of Admission                           1.000000             0.047165   \n",
       "Severity of Illness                         0.047165             1.000000   \n",
       "Visitors with Patient                       0.015229             0.044488   \n",
       "Age                                         0.100949             0.125271   \n",
       "Admission_Deposit                           0.075895            -0.070892   \n",
       "\n",
       "                                   Visitors with Patient       Age  \\\n",
       "Unnamed: 0                                      0.001610 -0.115008   \n",
       "Hospital_code                                  -0.032790  0.016341   \n",
       "Hospital_type_code                             -0.046404  0.006008   \n",
       "City_Code_Hospital                              0.020910  0.020484   \n",
       "Hospital_region_code                           -0.018069 -0.017071   \n",
       "Available Extra Rooms in Hospital               0.111724 -0.134707   \n",
       "Department                                      0.015671 -0.099280   \n",
       "Ward_Type                                      -0.100932  0.023718   \n",
       "Ward_Facility_Code                              0.021553 -0.000390   \n",
       "Bed Grade                                       0.077781  0.001523   \n",
       "patientid                                       0.005605 -0.001495   \n",
       "City_Code_Patient                              -0.010237 -0.016370   \n",
       "Type of Admission                               0.015229  0.100949   \n",
       "Severity of Illness                             0.044488  0.125271   \n",
       "Visitors with Patient                           1.000000  0.074773   \n",
       "Age                                             0.074773  1.000000   \n",
       "Admission_Deposit                              -0.159640  0.025056   \n",
       "\n",
       "                                   Admission_Deposit  \n",
       "Unnamed: 0                                 -0.045972  \n",
       "Hospital_code                               0.045446  \n",
       "Hospital_type_code                          0.025341  \n",
       "City_Code_Hospital                         -0.034455  \n",
       "Hospital_region_code                        0.075092  \n",
       "Available Extra Rooms in Hospital          -0.144105  \n",
       "Department                                 -0.055692  \n",
       "Ward_Type                                   0.056740  \n",
       "Ward_Facility_Code                         -0.023057  \n",
       "Bed Grade                                   0.073779  \n",
       "patientid                                  -0.000877  \n",
       "City_Code_Patient                           0.025485  \n",
       "Type of Admission                           0.075895  \n",
       "Severity of Illness                        -0.070892  \n",
       "Visitors with Patient                      -0.159640  \n",
       "Age                                         0.025056  \n",
       "Admission_Deposit                           1.000000  "
      ]
     },
     "execution_count": 68,
     "metadata": {},
     "output_type": "execute_result"
    }
   ],
   "source": [
    "df.corr()"
   ]
  },
  {
   "cell_type": "code",
   "execution_count": 69,
   "metadata": {},
   "outputs": [
    {
     "data": {
      "text/plain": [
       "<matplotlib.axes._subplots.AxesSubplot at 0x241d6ea8d48>"
      ]
     },
     "execution_count": 69,
     "metadata": {},
     "output_type": "execute_result"
    },
    {
     "data": {
      "image/png": "[encoded data removed]",
      "text/plain": [
       "<Figure size 432x288 with 1 Axes>"
      ]
     },
     "metadata": {
      "needs_background": "light"
     },
     "output_type": "display_data"
    }
   ],
   "source": [
    "sns.boxplot(test['Admission_Deposit'])"
   ]
  },
  {
   "cell_type": "code",
   "execution_count": 70,
   "metadata": {},
   "outputs": [
    {
     "data": {
      "text/plain": [
       "<matplotlib.axes._subplots.AxesSubplot at 0x241e1ba1048>"
      ]
     },
     "execution_count": 70,
     "metadata": {},
     "output_type": "execute_result"
    },
    {
     "data": {
      "image/png": "[encoded data removed]",
      "text/plain": [
       "<Figure size 432x288 with 1 Axes>"
      ]
     },
     "metadata": {
      "needs_background": "light"
     },
     "output_type": "display_data"
    }
   ],
   "source": [
    "sns.countplot(df['Admission_Deposit'])"
   ]
  },
  {
   "cell_type": "code",
   "execution_count": 71,
   "metadata": {},
   "outputs": [
    {
     "data": {
      "text/plain": [
       "11920.0"
      ]
     },
     "execution_count": 71,
     "metadata": {},
     "output_type": "execute_result"
    }
   ],
   "source": [
    "test['Admission_Deposit'].max()"
   ]
  },
  {
   "cell_type": "code",
   "execution_count": 72,
   "metadata": {},
   "outputs": [
    {
     "data": {
      "text/plain": [
       "11008.0"
      ]
     },
     "execution_count": 72,
     "metadata": {},
     "output_type": "execute_result"
    }
   ],
   "source": [
    "df['Admission_Deposit'].max()"
   ]
  },
  {
   "cell_type": "code",
   "execution_count": 73,
   "metadata": {},
   "outputs": [
    {
     "data": {
      "text/plain": [
       "case_id                              318438\n",
       "Hospital_code                        318438\n",
       "Hospital_type_code                   318438\n",
       "City_Code_Hospital                   318438\n",
       "Hospital_region_code                 318438\n",
       "Available Extra Rooms in Hospital    318438\n",
       "Department                           318438\n",
       "Ward_Type                            318438\n",
       "Ward_Facility_Code                   318438\n",
       "Bed Grade                            318325\n",
       "patientid                            318438\n",
       "City_Code_Patient                    313906\n",
       "Type of Admission                    318438\n",
       "Severity of Illness                  318438\n",
       "Visitors with Patient                318438\n",
       "Age                                  318438\n",
       "Admission_Deposit                    318438\n",
       "Stay                                 318438\n",
       "dtype: int64"
      ]
     },
     "execution_count": 73,
     "metadata": {},
     "output_type": "execute_result"
    }
   ],
   "source": [
    "tf = pd.read_csv('train.csv')\n",
    "tf.count()"
   ]
  },
  {
   "cell_type": "code",
   "execution_count": 74,
   "metadata": {},
   "outputs": [],
   "source": [
    "target = tf['Stay']"
   ]
  },
  {
   "cell_type": "code",
   "execution_count": 75,
   "metadata": {},
   "outputs": [
    {
     "data": {
      "text/plain": [
       "0         False\n",
       "1          True\n",
       "2          True\n",
       "3          True\n",
       "4          True\n",
       "          ...  \n",
       "137052    False\n",
       "137053    False\n",
       "137054    False\n",
       "137055    False\n",
       "137056    False\n",
       "Name: patientid, Length: 137057, dtype: bool"
      ]
     },
     "execution_count": 75,
     "metadata": {},
     "output_type": "execute_result"
    }
   ],
   "source": [
    "test['patientid'].duplicated()"
   ]
  },
  {
   "cell_type": "code",
   "execution_count": 76,
   "metadata": {},
   "outputs": [
    {
     "data": {
      "text/plain": [
       "0    False\n",
       "1     True\n",
       "2     True\n",
       "3     True\n",
       "4     True\n",
       "Name: patientid, dtype: bool"
      ]
     },
     "execution_count": 76,
     "metadata": {},
     "output_type": "execute_result"
    }
   ],
   "source": [
    "df['patientid'].duplicated().head()"
   ]
  },
  {
   "cell_type": "code",
   "execution_count": 77,
   "metadata": {},
   "outputs": [],
   "source": [
    "df = df.drop(['patientid', 'Unnamed: 0','Bed Grade'], axis = 1)"
   ]
  },
  {
   "cell_type": "code",
   "execution_count": 78,
   "metadata": {},
   "outputs": [],
   "source": [
    "test = test.drop(['patientid', 'Bed Grade'], axis = 1)"
   ]
  },
  {
   "cell_type": "code",
   "execution_count": 79,
   "metadata": {},
   "outputs": [],
   "source": [
    "test = test.drop(['Unnamed: 0'], axis = 1)"
   ]
  },
  {
   "cell_type": "code",
   "execution_count": 80,
   "metadata": {},
   "outputs": [
    {
     "data": {
      "text/html": [
       "<div>\n",
       "<style scoped>\n",
       "    .dataframe tbody tr th:only-of-type {\n",
       "        vertical-align: middle;\n",
       "    }\n",
       "\n",
       "    .dataframe tbody tr th {\n",
       "        vertical-align: top;\n",
       "    }\n",
       "\n",
       "    .dataframe thead th {\n",
       "        text-align: right;\n",
       "    }\n",
       "</style>\n",
       "<table border=\"1\" class=\"dataframe\">\n",
       "  <thead>\n",
       "    <tr style=\"text-align: right;\">\n",
       "      <th></th>\n",
       "      <th>Hospital_code</th>\n",
       "      <th>Hospital_type_code</th>\n",
       "      <th>City_Code_Hospital</th>\n",
       "      <th>Hospital_region_code</th>\n",
       "      <th>Available Extra Rooms in Hospital</th>\n",
       "      <th>Department</th>\n",
       "      <th>Ward_Type</th>\n",
       "      <th>Ward_Facility_Code</th>\n",
       "      <th>City_Code_Patient</th>\n",
       "      <th>Type of Admission</th>\n",
       "      <th>Severity of Illness</th>\n",
       "      <th>Visitors with Patient</th>\n",
       "      <th>Age</th>\n",
       "      <th>Admission_Deposit</th>\n",
       "    </tr>\n",
       "  </thead>\n",
       "  <tbody>\n",
       "    <tr>\n",
       "      <td>0</td>\n",
       "      <td>21</td>\n",
       "      <td>3</td>\n",
       "      <td>3</td>\n",
       "      <td>3</td>\n",
       "      <td>3</td>\n",
       "      <td>3</td>\n",
       "      <td>4</td>\n",
       "      <td>1</td>\n",
       "      <td>2</td>\n",
       "      <td>2</td>\n",
       "      <td>2</td>\n",
       "      <td>2</td>\n",
       "      <td>75.5</td>\n",
       "      <td>3095.0</td>\n",
       "    </tr>\n",
       "    <tr>\n",
       "      <td>1</td>\n",
       "      <td>29</td>\n",
       "      <td>1</td>\n",
       "      <td>4</td>\n",
       "      <td>1</td>\n",
       "      <td>2</td>\n",
       "      <td>3</td>\n",
       "      <td>4</td>\n",
       "      <td>6</td>\n",
       "      <td>2</td>\n",
       "      <td>3</td>\n",
       "      <td>2</td>\n",
       "      <td>4</td>\n",
       "      <td>75.5</td>\n",
       "      <td>4018.0</td>\n",
       "    </tr>\n",
       "    <tr>\n",
       "      <td>2</td>\n",
       "      <td>26</td>\n",
       "      <td>2</td>\n",
       "      <td>2</td>\n",
       "      <td>2</td>\n",
       "      <td>3</td>\n",
       "      <td>3</td>\n",
       "      <td>1</td>\n",
       "      <td>4</td>\n",
       "      <td>2</td>\n",
       "      <td>2</td>\n",
       "      <td>2</td>\n",
       "      <td>3</td>\n",
       "      <td>75.5</td>\n",
       "      <td>4492.0</td>\n",
       "    </tr>\n",
       "    <tr>\n",
       "      <td>3</td>\n",
       "      <td>6</td>\n",
       "      <td>1</td>\n",
       "      <td>6</td>\n",
       "      <td>1</td>\n",
       "      <td>3</td>\n",
       "      <td>3</td>\n",
       "      <td>1</td>\n",
       "      <td>6</td>\n",
       "      <td>2</td>\n",
       "      <td>3</td>\n",
       "      <td>2</td>\n",
       "      <td>3</td>\n",
       "      <td>75.5</td>\n",
       "      <td>4173.0</td>\n",
       "    </tr>\n",
       "    <tr>\n",
       "      <td>4</td>\n",
       "      <td>28</td>\n",
       "      <td>2</td>\n",
       "      <td>11</td>\n",
       "      <td>1</td>\n",
       "      <td>2</td>\n",
       "      <td>3</td>\n",
       "      <td>3</td>\n",
       "      <td>6</td>\n",
       "      <td>2</td>\n",
       "      <td>3</td>\n",
       "      <td>2</td>\n",
       "      <td>4</td>\n",
       "      <td>75.5</td>\n",
       "      <td>4161.0</td>\n",
       "    </tr>\n",
       "  </tbody>\n",
       "</table>\n",
       "</div>"
      ],
      "text/plain": [
       "   Hospital_code  Hospital_type_code  City_Code_Hospital  \\\n",
       "0             21                   3                   3   \n",
       "1             29                   1                   4   \n",
       "2             26                   2                   2   \n",
       "3              6                   1                   6   \n",
       "4             28                   2                  11   \n",
       "\n",
       "   Hospital_region_code  Available Extra Rooms in Hospital  Department  \\\n",
       "0                     3                                  3           3   \n",
       "1                     1                                  2           3   \n",
       "2                     2                                  3           3   \n",
       "3                     1                                  3           3   \n",
       "4                     1                                  2           3   \n",
       "\n",
       "   Ward_Type  Ward_Facility_Code  City_Code_Patient  Type of Admission  \\\n",
       "0          4                   1                  2                  2   \n",
       "1          4                   6                  2                  3   \n",
       "2          1                   4                  2                  2   \n",
       "3          1                   6                  2                  3   \n",
       "4          3                   6                  2                  3   \n",
       "\n",
       "   Severity of Illness  Visitors with Patient   Age  Admission_Deposit  \n",
       "0                    2                      2  75.5             3095.0  \n",
       "1                    2                      4  75.5             4018.0  \n",
       "2                    2                      3  75.5             4492.0  \n",
       "3                    2                      3  75.5             4173.0  \n",
       "4                    2                      4  75.5             4161.0  "
      ]
     },
     "execution_count": 80,
     "metadata": {},
     "output_type": "execute_result"
    }
   ],
   "source": [
    "test.head()"
   ]
  },
  {
   "cell_type": "code",
   "execution_count": 81,
   "metadata": {},
   "outputs": [],
   "source": [
    "maneesh = XGBClassifier()"
   ]
  },
  {
   "cell_type": "code",
   "execution_count": 82,
   "metadata": {},
   "outputs": [
    {
     "data": {
      "text/plain": [
       "XGBClassifier(base_score=0.5, booster='gbtree', colsample_bylevel=1,\n",
       "              colsample_bynode=1, colsample_bytree=1, gamma=0, gpu_id=-1,\n",
       "              importance_type='gain', interaction_constraints='',\n",
       "              learning_rate=0.300000012, max_delta_step=0, max_depth=6,\n",
       "              min_child_weight=1, missing=nan, monotone_constraints='()',\n",
       "              n_estimators=100, n_jobs=0, num_parallel_tree=1,\n",
       "              objective='multi:softprob', random_state=0, reg_alpha=0,\n",
       "              reg_lambda=1, scale_pos_weight=None, subsample=1,\n",
       "              tree_method='exact', validate_parameters=1, verbosity=None)"
      ]
     },
     "execution_count": 82,
     "metadata": {},
     "output_type": "execute_result"
    }
   ],
   "source": [
    "maneesh.fit(df, target)"
   ]
  },
  {
   "cell_type": "code",
   "execution_count": 83,
   "metadata": {},
   "outputs": [
    {
     "data": {
      "text/plain": [
       "array(['0-10', '51-60', '21-30', ..., '21-30', '11-20', '51-60'],\n",
       "      dtype=object)"
      ]
     },
     "execution_count": 83,
     "metadata": {},
     "output_type": "execute_result"
    }
   ],
   "source": [
    "maneesh.predict(test)"
   ]
  },
  {
   "cell_type": "code",
   "execution_count": 84,
   "metadata": {},
   "outputs": [],
   "source": [
    "column_names = [\"case_id\", \"Stay\"]"
   ]
  },
  {
   "cell_type": "code",
   "execution_count": 85,
   "metadata": {},
   "outputs": [],
   "source": [
    "test_test1 = pd.DataFrame(columns = column_names)"
   ]
  },
  {
   "cell_type": "code",
   "execution_count": 86,
   "metadata": {},
   "outputs": [],
   "source": [
    "test_test1['Stay'] = maneesh.predict(test)"
   ]
  },
  {
   "cell_type": "code",
   "execution_count": 87,
   "metadata": {},
   "outputs": [],
   "source": [
    "dft = pd.read_csv('test.csv')"
   ]
  },
  {
   "cell_type": "code",
   "execution_count": 88,
   "metadata": {},
   "outputs": [
    {
     "data": {
      "text/html": [
       "<div>\n",
       "<style scoped>\n",
       "    .dataframe tbody tr th:only-of-type {\n",
       "        vertical-align: middle;\n",
       "    }\n",
       "\n",
       "    .dataframe tbody tr th {\n",
       "        vertical-align: top;\n",
       "    }\n",
       "\n",
       "    .dataframe thead th {\n",
       "        text-align: right;\n",
       "    }\n",
       "</style>\n",
       "<table border=\"1\" class=\"dataframe\">\n",
       "  <thead>\n",
       "    <tr style=\"text-align: right;\">\n",
       "      <th></th>\n",
       "      <th>case_id</th>\n",
       "      <th>Hospital_code</th>\n",
       "      <th>Hospital_type_code</th>\n",
       "      <th>City_Code_Hospital</th>\n",
       "      <th>Hospital_region_code</th>\n",
       "      <th>Available Extra Rooms in Hospital</th>\n",
       "      <th>Department</th>\n",
       "      <th>Ward_Type</th>\n",
       "      <th>Ward_Facility_Code</th>\n",
       "      <th>Bed Grade</th>\n",
       "      <th>patientid</th>\n",
       "      <th>City_Code_Patient</th>\n",
       "      <th>Type of Admission</th>\n",
       "      <th>Severity of Illness</th>\n",
       "      <th>Visitors with Patient</th>\n",
       "      <th>Age</th>\n",
       "      <th>Admission_Deposit</th>\n",
       "    </tr>\n",
       "  </thead>\n",
       "  <tbody>\n",
       "    <tr>\n",
       "      <td>0</td>\n",
       "      <td>318439</td>\n",
       "      <td>21</td>\n",
       "      <td>c</td>\n",
       "      <td>3</td>\n",
       "      <td>Z</td>\n",
       "      <td>3</td>\n",
       "      <td>gynecology</td>\n",
       "      <td>S</td>\n",
       "      <td>A</td>\n",
       "      <td>2.0</td>\n",
       "      <td>17006</td>\n",
       "      <td>2.0</td>\n",
       "      <td>Emergency</td>\n",
       "      <td>Moderate</td>\n",
       "      <td>2</td>\n",
       "      <td>71-80</td>\n",
       "      <td>3095.0</td>\n",
       "    </tr>\n",
       "    <tr>\n",
       "      <td>1</td>\n",
       "      <td>318440</td>\n",
       "      <td>29</td>\n",
       "      <td>a</td>\n",
       "      <td>4</td>\n",
       "      <td>X</td>\n",
       "      <td>2</td>\n",
       "      <td>gynecology</td>\n",
       "      <td>S</td>\n",
       "      <td>F</td>\n",
       "      <td>2.0</td>\n",
       "      <td>17006</td>\n",
       "      <td>2.0</td>\n",
       "      <td>Trauma</td>\n",
       "      <td>Moderate</td>\n",
       "      <td>4</td>\n",
       "      <td>71-80</td>\n",
       "      <td>4018.0</td>\n",
       "    </tr>\n",
       "    <tr>\n",
       "      <td>2</td>\n",
       "      <td>318441</td>\n",
       "      <td>26</td>\n",
       "      <td>b</td>\n",
       "      <td>2</td>\n",
       "      <td>Y</td>\n",
       "      <td>3</td>\n",
       "      <td>gynecology</td>\n",
       "      <td>Q</td>\n",
       "      <td>D</td>\n",
       "      <td>4.0</td>\n",
       "      <td>17006</td>\n",
       "      <td>2.0</td>\n",
       "      <td>Emergency</td>\n",
       "      <td>Moderate</td>\n",
       "      <td>3</td>\n",
       "      <td>71-80</td>\n",
       "      <td>4492.0</td>\n",
       "    </tr>\n",
       "    <tr>\n",
       "      <td>3</td>\n",
       "      <td>318442</td>\n",
       "      <td>6</td>\n",
       "      <td>a</td>\n",
       "      <td>6</td>\n",
       "      <td>X</td>\n",
       "      <td>3</td>\n",
       "      <td>gynecology</td>\n",
       "      <td>Q</td>\n",
       "      <td>F</td>\n",
       "      <td>2.0</td>\n",
       "      <td>17006</td>\n",
       "      <td>2.0</td>\n",
       "      <td>Trauma</td>\n",
       "      <td>Moderate</td>\n",
       "      <td>3</td>\n",
       "      <td>71-80</td>\n",
       "      <td>4173.0</td>\n",
       "    </tr>\n",
       "    <tr>\n",
       "      <td>4</td>\n",
       "      <td>318443</td>\n",
       "      <td>28</td>\n",
       "      <td>b</td>\n",
       "      <td>11</td>\n",
       "      <td>X</td>\n",
       "      <td>2</td>\n",
       "      <td>gynecology</td>\n",
       "      <td>R</td>\n",
       "      <td>F</td>\n",
       "      <td>2.0</td>\n",
       "      <td>17006</td>\n",
       "      <td>2.0</td>\n",
       "      <td>Trauma</td>\n",
       "      <td>Moderate</td>\n",
       "      <td>4</td>\n",
       "      <td>71-80</td>\n",
       "      <td>4161.0</td>\n",
       "    </tr>\n",
       "  </tbody>\n",
       "</table>\n",
       "</div>"
      ],
      "text/plain": [
       "   case_id  Hospital_code Hospital_type_code  City_Code_Hospital  \\\n",
       "0   318439             21                  c                   3   \n",
       "1   318440             29                  a                   4   \n",
       "2   318441             26                  b                   2   \n",
       "3   318442              6                  a                   6   \n",
       "4   318443             28                  b                  11   \n",
       "\n",
       "  Hospital_region_code  Available Extra Rooms in Hospital  Department  \\\n",
       "0                    Z                                  3  gynecology   \n",
       "1                    X                                  2  gynecology   \n",
       "2                    Y                                  3  gynecology   \n",
       "3                    X                                  3  gynecology   \n",
       "4                    X                                  2  gynecology   \n",
       "\n",
       "  Ward_Type Ward_Facility_Code  Bed Grade  patientid  City_Code_Patient  \\\n",
       "0         S                  A        2.0      17006                2.0   \n",
       "1         S                  F        2.0      17006                2.0   \n",
       "2         Q                  D        4.0      17006                2.0   \n",
       "3         Q                  F        2.0      17006                2.0   \n",
       "4         R                  F        2.0      17006                2.0   \n",
       "\n",
       "  Type of Admission Severity of Illness  Visitors with Patient    Age  \\\n",
       "0         Emergency            Moderate                      2  71-80   \n",
       "1            Trauma            Moderate                      4  71-80   \n",
       "2         Emergency            Moderate                      3  71-80   \n",
       "3            Trauma            Moderate                      3  71-80   \n",
       "4            Trauma            Moderate                      4  71-80   \n",
       "\n",
       "   Admission_Deposit  \n",
       "0             3095.0  \n",
       "1             4018.0  \n",
       "2             4492.0  \n",
       "3             4173.0  \n",
       "4             4161.0  "
      ]
     },
     "execution_count": 88,
     "metadata": {},
     "output_type": "execute_result"
    }
   ],
   "source": [
    "dft.head()"
   ]
  },
  {
   "cell_type": "code",
   "execution_count": 89,
   "metadata": {},
   "outputs": [],
   "source": [
    "test_test1['case_id'] = dft['case_id']"
   ]
  },
  {
   "cell_type": "code",
   "execution_count": 90,
   "metadata": {},
   "outputs": [],
   "source": [
    "test_test1.to_csv('xgboost_mean02.csv',index = False)"
   ]
  },
  {
   "cell_type": "code",
   "execution_count": 91,
   "metadata": {},
   "outputs": [
    {
     "data": {
      "text/plain": [
       "case_id    137057\n",
       "Stay       137057\n",
       "dtype: int64"
      ]
     },
     "execution_count": 91,
     "metadata": {},
     "output_type": "execute_result"
    }
   ],
   "source": [
    "test_test1.count()"
   ]
  },
  {
   "cell_type": "code",
   "execution_count": null,
   "metadata": {},
   "outputs": [],
   "source": []
  }
 ],
 "metadata": {
  "kernelspec": {
   "display_name": "Python 3",
   "language": "python",
   "name": "python3"
  },
  "language_info": {
   "codemirror_mode": {
    "name": "ipython",
    "version": 3
   },
   "file_extension": ".py",
   "mimetype": "text/x-python",
   "name": "python",
   "nbconvert_exporter": "python",
   "pygments_lexer": "ipython3",
   "version": "3.7.4"
  }
 },
 "nbformat": 4,
 "nbformat_minor": 2
}
